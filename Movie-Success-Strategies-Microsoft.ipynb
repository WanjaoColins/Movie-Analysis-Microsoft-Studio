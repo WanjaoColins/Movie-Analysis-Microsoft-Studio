{
 "cells": [
  {
   "cell_type": "markdown",
   "metadata": {},
   "source": [
    "![Film Studio.png](images/Film%20Studio.png)"
   ]
  },
  {
   "cell_type": "markdown",
   "metadata": {},
   "source": [
    "# **Box Office Alchemy: Unlocking Movie Success Strategies for Microsoft's New Studio**\n",
    "\n",
    "\n",
    "\n",
    "\n",
    "**Authors:** Colins Ngige Wanjao\n",
    "\n",
    "\n",
    "\n",
    "**Email:** colins.wanjao@student.moringaschool.com\n",
    "***"
   ]
  },
  {
   "cell_type": "markdown",
   "metadata": {},
   "source": [
    "## Overview\n",
    "\n",
    "A one-paragraph overview of the project, including the business problem, data, methods, results and recommendations."
   ]
  },
  {
   "cell_type": "markdown",
   "metadata": {},
   "source": [
    "## Business Problem\n",
    "\n",
    "The core business problem at hand pertains to Microsoft's ambitious foray into the movie industry with the establishment of a new movie studio. The key pain points that the company is grappling with include the lack of expertise and experience in the movie-making domain. Microsoft is faced with uncertainties regarding what types of films are currently thriving at the box office and how to translate these insights into actionable recommendations for their new movie studio. \n",
    "\n",
    "In light of these challenges, the chosen data analysis questions aim to address the following critical aspects:\n",
    "\n",
    "1. **Which movie genres are currently most successful at the box office?**\n",
    "   - The business is interested in understanding the most lucrative genres to guide its movie production strategy.\n",
    "\n",
    "2. **How do audience ratings correlate with box office performance across different genres?**\n",
    "   - By examining the relationship between ratings and box office gross, the business can gauge the impact of audience preferences on financial success.\n",
    "\n",
    "3. **What are the trends in box office performance over time for various genres?**\n",
    "   - Recognizing the evolution of genre popularity and performance over time is crucial for making informed business decisions.\n",
    "\n",
    "These questions are indispensable from a business perspective as they provide Microsoft's new movie studio with the essential insights required to strategically enter the competitive movie industry. By addressing these questions, the company can identify profitable genres, tailor their content to align with audience preferences, and adapt to shifting market trends. Ultimately, these insights are invaluable for ensuring that Microsoft's new movie studio can make informed decisions and increase its chances of success in this dynamic and ever-evolving sector."
   ]
  },
  {
   "cell_type": "markdown",
   "metadata": {},
   "source": [
    "## Data Understanding\n",
    "\n",
    "The datasets for this project are sourced from three main datasets: `imdb.title.basics`, `imdb.title.ratings`, and `bom.movie.gross`. These datasets have been selected because they are integral to addressing the data analysis questions at hand.\n",
    "\n",
    "1. **imdb.title.basics:**\n",
    "   - This dataset provides information about movies, including titles and genres. Genres are particularly significant as they are central to the analysis of which movie genres are performing well at the box office.\n",
    "\n",
    "2. **imdb.title.ratings:**\n",
    "   - This dataset includes data on IMDb ratings for movies. These ratings are crucial for understanding audience preferences and examining their relationship with box office performance.\n",
    "\n",
    "3. **bom.movie.gross:**\n",
    "   - This dataset contains information about the financial aspects of movies, including box office gross. Box office gross serves as a key variable to evaluate movie performance in financial terms.\n",
    "\n",
    "The sample within these datasets encompasses a broad range of movies spanning different genres, release years, and production scales. The variables of interest primarily include:\n",
    "- **Title:** The title of the movie, which is a common identifier across the datasets.\n",
    "- **Genres:** Categorical variables that represent the genres to which a movie belongs, facilitating genre-specific analysis.\n",
    "- **IMDb Ratings:** Numerical variables indicating audience ratings, which are essential for understanding audience satisfaction and preferences.\n",
    "- **Box Office Gross:** Numerical variables representing the financial success of movies, serving as a key metric to evaluate box office performance.\n",
    "\n",
    "These three datasets will be used in tandem to answer the data analysis questions and provide actionable insights for Microsoft's new movie studio."
   ]
  },
  {
   "cell_type": "code",
   "execution_count": 2,
   "metadata": {},
   "outputs": [],
   "source": [
    "# Import standard packages\n",
    "import pandas as pd\n",
    "import numpy as np\n",
    "import matplotlib.pyplot as plt\n",
    "import seaborn as sns\n",
    "%matplotlib inline"
   ]
  },
  {
   "cell_type": "code",
   "execution_count": 2,
   "metadata": {},
   "outputs": [],
   "source": [
    "# Here you run your code to explore the data"
   ]
  },
  {
   "cell_type": "markdown",
   "metadata": {},
   "source": [
    "## Data Preparation\n",
    "\n",
    "Describe and justify the process for preparing the data for analysis.\n",
    "\n",
    "***\n",
    "Questions to consider:\n",
    "* Were there variables you dropped or created?\n",
    "* How did you address missing values or outliers?\n",
    "* Why are these choices appropriate given the data and the business problem?\n",
    "***"
   ]
  },
  {
   "cell_type": "code",
   "execution_count": 6,
   "metadata": {},
   "outputs": [],
   "source": [
    "# Here you run your code to clean the data"
   ]
  },
  {
   "cell_type": "markdown",
   "metadata": {},
   "source": [
    "## Data Modeling\n",
    "Describe and justify the process for analyzing or modeling the data.\n",
    "\n",
    "***\n",
    "Questions to consider:\n",
    "* How did you analyze or model the data?\n",
    "* How did you iterate on your initial approach to make it better?\n",
    "* Why are these choices appropriate given the data and the business problem?\n",
    "***"
   ]
  },
  {
   "cell_type": "code",
   "execution_count": null,
   "metadata": {},
   "outputs": [],
   "source": [
    "# Here you run your code to model the data\n"
   ]
  },
  {
   "cell_type": "markdown",
   "metadata": {},
   "source": [
    "## Evaluation\n",
    "Evaluate how well your work solves the stated business problem.\n",
    "\n",
    "***\n",
    "Questions to consider:\n",
    "* How do you interpret the results?\n",
    "* How well does your model fit your data? How much better is this than your baseline model?\n",
    "* How confident are you that your results would generalize beyond the data you have?\n",
    "* How confident are you that this model would benefit the business if put into use?\n",
    "***"
   ]
  },
  {
   "cell_type": "markdown",
   "metadata": {},
   "source": [
    "## Conclusions\n",
    "Provide your conclusions about the work you've done, including any limitations or next steps.\n",
    "\n",
    "***\n",
    "Questions to consider:\n",
    "* What would you recommend the business do as a result of this work?\n",
    "* What are some reasons why your analysis might not fully solve the business problem?\n",
    "* What else could you do in the future to improve this project?\n",
    "***"
   ]
  }
 ],
 "metadata": {
  "kernelspec": {
   "display_name": "Python 3",
   "language": "python",
   "name": "python3"
  },
  "language_info": {
   "codemirror_mode": {
    "name": "ipython",
    "version": 3
   },
   "file_extension": ".py",
   "mimetype": "text/x-python",
   "name": "python",
   "nbconvert_exporter": "python",
   "pygments_lexer": "ipython3",
   "version": "3.8.5"
  }
 },
 "nbformat": 4,
 "nbformat_minor": 4
}
