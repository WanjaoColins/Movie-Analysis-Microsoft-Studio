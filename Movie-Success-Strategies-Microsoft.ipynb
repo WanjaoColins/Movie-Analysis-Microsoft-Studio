{
 "cells": [
  {
   "cell_type": "markdown",
   "metadata": {},
   "source": [
    "![Film Studio.png](images/Film%20Studio.png)"
   ]
  },
  {
   "cell_type": "markdown",
   "metadata": {},
   "source": [
    "# **Box Office Alchemy: Unlocking Movie Success Strategies for Microsoft's New Studio**\n",
    "\n",
    "\n",
    "\n",
    "\n",
    "**Author:** Colins Ngige Wanjao\n",
    "\n",
    "\n",
    "\n",
    "**Email:** colins.wanjao@student.moringaschool.com\n",
    "***"
   ]
  },
  {
   "cell_type": "markdown",
   "metadata": {},
   "source": [
    "## Executive Summary\n",
    "\n",
    "This project addresses the strategic entry of Microsoft into the film industry by analyzing historical box office data and audience preferences. The business problem involves optimizing Microsoft's movie production strategy to ensure commercial success. Using a diverse dataset including movie genres, ratings, and revenue figures, a multifaceted approach was employed to extract insights. The results highlight that genres like Adventure, Action, Drama, Comedy, and Animation tend to perform exceptionally well at the box office, providing valuable direction for Microsoft's genre strategy. Additionally, the project suggests a focus on content diversification and a preference for quality storytelling over runtime constraints. In an ever-evolving industry, continuous market research and adaptability are vital. These findings position Microsoft to make informed decisions and succeed in its cinematic venture."
   ]
  },
  {
   "cell_type": "markdown",
   "metadata": {},
   "source": [
    "## Business Problem\n",
    "\n",
    "The core business problem at hand pertains to Microsoft's ambitious foray into the movie industry with the establishment of a new movie studio. The critical pain points that the company is grappling with include the lack of expertise and experience in the movie-making domain. Microsoft is faced with uncertainties regarding what types of films are currently thriving at the box office and how to translate these insights into actionable recommendations for their new movie studio. \n",
    "\n",
    "In light of these challenges, the chosen data analysis questions aim to address the following critical aspects:\n",
    "\n",
    "1. **Which movie genres are currently most successful at the box office?**\n",
    "   - The business is interested in understanding the most lucrative genres to guide its movie production strategy.\n",
    "\n",
    "2. **How do audience ratings correlate with box office performance across different genres?**\n",
    "   - By examining the relationship between ratings and box office gross, the business can gauge the impact of audience preferences on financial success.\n",
    "\n",
    "3. **What are the trends in box office performance over time for various genres?**\n",
    "   - Recognizing the evolution of genre popularity and performance over time is crucial for making informed business decisions.\n",
    "\n",
    "These questions are indispensable from a business perspective as they provide Microsoft's new movie studio with the essential insights required to strategically enter the competitive movie industry. By addressing these questions, the company can identify profitable genres, tailor their content to align with audience preferences, and adapt to shifting market trends. Ultimately, these insights are invaluable for ensuring that Microsoft's new movie studio can make informed decisions and increase its chances of success in this dynamic and ever-evolving sector."
   ]
  },
  {
   "cell_type": "markdown",
   "metadata": {},
   "source": [
    "## Data Understanding\n",
    "\n",
    "The datasets for this project are sourced from for main datasets: `imdb.title.basics`, `imdb.title.ratings`,`bom.movie.gross`, and `tmdb.movies.gross`. These datasets have been carefully chosen because they are integral to addressing the data analysis questions at hand.\n",
    "\n",
    "1. **imdb.title.basics:**\n",
    "   - This dataset provides information about movies, including titles and genres. Genres are particularly significant as they are central to the analysis of which movie genres are performing well at the box office.\n",
    "\n",
    "2. **imdb.title.ratings:**\n",
    "   - This dataset includes data on IMDb ratings for movies. These ratings are crucial for understanding audience preferences and examining their relationship with box office performance.\n",
    "\n",
    "3. **bom.movie.gross:**\n",
    "   - This dataset contains information about the financial aspects of movies, including box office gross. Box office gross serves as a key variable to evaluate movie performance in financial terms.\n",
    "\n",
    "4. **tmdb.movie.gross:**\n",
    "   - This dataset contains a fusion of movie data from the \"title.basics\" and \"title.ratings\" CSV files, serving as a supplementary information source to address potential gaps in the initial datasets if needed.\n",
    "\n",
    "The sample within these datasets encompasses a broad range of movies spanning different genres, release years, and production scales. The variables of interest primarily include:\n",
    "- **Title:** The title of the movie, which is a common identifier across the datasets.\n",
    "- **Genres:** Categorical variables that represent the genres to which a movie belongs, facilitating genre-specific analysis.\n",
    "- **IMDb Ratings:** Numerical variables indicating audience ratings, which are essential for understanding audience satisfaction and preferences.\n",
    "- **Box Office Gross:** Numerical variables representing the financial success of movies, serving as a key metric to evaluate box office performance.\n",
    "\n",
    "These four datasets will be used in tandem to answer the data analysis questions and provide actionable insights for Microsoft's new movie studio."
   ]
  },
  {
   "cell_type": "markdown",
   "metadata": {},
   "source": [
    "## Data Preparation"
   ]
  },
  {
   "cell_type": "markdown",
   "metadata": {},
   "source": [
    "### Data Loading & Inspection"
   ]
  },
  {
   "cell_type": "code",
   "execution_count": 1152,
   "metadata": {},
   "outputs": [],
   "source": [
    "# Import standard packages\n",
    "import pandas as pd\n",
    "import numpy as np\n",
    "import matplotlib.pyplot as plt\n",
    "import seaborn as sns\n",
    "%matplotlib inline"
   ]
  },
  {
   "cell_type": "code",
   "execution_count": 1153,
   "metadata": {},
   "outputs": [],
   "source": [
    "# importing the selected CSV files \n",
    "title_basics_df = pd.read_csv('zippedData/imdb.title.basics.csv.gz')\n",
    "title_ratings_df = pd.read_csv('zippedData/imdb.title.ratings.csv.gz')\n",
    "bom_movie_gross_df = pd.read_csv('zippedData/bom.movie_gross.csv.gz')"
   ]
  },
  {
   "cell_type": "code",
   "execution_count": 1154,
   "metadata": {},
   "outputs": [
    {
     "name": "stdout",
     "output_type": "stream",
     "text": [
      "<class 'pandas.core.frame.DataFrame'>\n",
      "RangeIndex: 146144 entries, 0 to 146143\n",
      "Data columns (total 6 columns):\n",
      " #   Column           Non-Null Count   Dtype  \n",
      "---  ------           --------------   -----  \n",
      " 0   tconst           146144 non-null  object \n",
      " 1   primary_title    146144 non-null  object \n",
      " 2   original_title   146123 non-null  object \n",
      " 3   start_year       146144 non-null  int64  \n",
      " 4   runtime_minutes  114405 non-null  float64\n",
      " 5   genres           140736 non-null  object \n",
      "dtypes: float64(1), int64(1), object(4)\n",
      "memory usage: 6.7+ MB\n"
     ]
    }
   ],
   "source": [
    "# checking out the metadata of the title_basics_df\n",
    "title_basics_df.info()"
   ]
  },
  {
   "cell_type": "code",
   "execution_count": 1155,
   "metadata": {},
   "outputs": [
    {
     "data": {
      "text/html": [
       "<div>\n",
       "<style scoped>\n",
       "    .dataframe tbody tr th:only-of-type {\n",
       "        vertical-align: middle;\n",
       "    }\n",
       "\n",
       "    .dataframe tbody tr th {\n",
       "        vertical-align: top;\n",
       "    }\n",
       "\n",
       "    .dataframe thead th {\n",
       "        text-align: right;\n",
       "    }\n",
       "</style>\n",
       "<table border=\"1\" class=\"dataframe\">\n",
       "  <thead>\n",
       "    <tr style=\"text-align: right;\">\n",
       "      <th></th>\n",
       "      <th>tconst</th>\n",
       "      <th>primary_title</th>\n",
       "      <th>original_title</th>\n",
       "      <th>start_year</th>\n",
       "      <th>runtime_minutes</th>\n",
       "      <th>genres</th>\n",
       "    </tr>\n",
       "  </thead>\n",
       "  <tbody>\n",
       "    <tr>\n",
       "      <th>0</th>\n",
       "      <td>tt0063540</td>\n",
       "      <td>Sunghursh</td>\n",
       "      <td>Sunghursh</td>\n",
       "      <td>2013</td>\n",
       "      <td>175.0</td>\n",
       "      <td>Action,Crime,Drama</td>\n",
       "    </tr>\n",
       "    <tr>\n",
       "      <th>1</th>\n",
       "      <td>tt0066787</td>\n",
       "      <td>One Day Before the Rainy Season</td>\n",
       "      <td>Ashad Ka Ek Din</td>\n",
       "      <td>2019</td>\n",
       "      <td>114.0</td>\n",
       "      <td>Biography,Drama</td>\n",
       "    </tr>\n",
       "    <tr>\n",
       "      <th>2</th>\n",
       "      <td>tt0069049</td>\n",
       "      <td>The Other Side of the Wind</td>\n",
       "      <td>The Other Side of the Wind</td>\n",
       "      <td>2018</td>\n",
       "      <td>122.0</td>\n",
       "      <td>Drama</td>\n",
       "    </tr>\n",
       "    <tr>\n",
       "      <th>3</th>\n",
       "      <td>tt0069204</td>\n",
       "      <td>Sabse Bada Sukh</td>\n",
       "      <td>Sabse Bada Sukh</td>\n",
       "      <td>2018</td>\n",
       "      <td>NaN</td>\n",
       "      <td>Comedy,Drama</td>\n",
       "    </tr>\n",
       "    <tr>\n",
       "      <th>4</th>\n",
       "      <td>tt0100275</td>\n",
       "      <td>The Wandering Soap Opera</td>\n",
       "      <td>La Telenovela Errante</td>\n",
       "      <td>2017</td>\n",
       "      <td>80.0</td>\n",
       "      <td>Comedy,Drama,Fantasy</td>\n",
       "    </tr>\n",
       "  </tbody>\n",
       "</table>\n",
       "</div>"
      ],
      "text/plain": [
       "      tconst                    primary_title              original_title  \\\n",
       "0  tt0063540                        Sunghursh                   Sunghursh   \n",
       "1  tt0066787  One Day Before the Rainy Season             Ashad Ka Ek Din   \n",
       "2  tt0069049       The Other Side of the Wind  The Other Side of the Wind   \n",
       "3  tt0069204                  Sabse Bada Sukh             Sabse Bada Sukh   \n",
       "4  tt0100275         The Wandering Soap Opera       La Telenovela Errante   \n",
       "\n",
       "   start_year  runtime_minutes                genres  \n",
       "0        2013            175.0    Action,Crime,Drama  \n",
       "1        2019            114.0       Biography,Drama  \n",
       "2        2018            122.0                 Drama  \n",
       "3        2018              NaN          Comedy,Drama  \n",
       "4        2017             80.0  Comedy,Drama,Fantasy  "
      ]
     },
     "execution_count": 1155,
     "metadata": {},
     "output_type": "execute_result"
    }
   ],
   "source": [
    "#inspecting the first 5 records in the title_basics_df:\n",
    "title_basics_df.head()"
   ]
  },
  {
   "cell_type": "markdown",
   "metadata": {},
   "source": [
    "This dataset contains information about movies, including their titles, genres, release years, and more.\n",
    "\n",
    "Key columns:\n",
    "- `tconst`: A unique identifier for each movie.\n",
    "- `primary_title`: The primary title of the movie, typically in the language and format most commonly used for marketing and distribution.\n",
    "- `original_title`: The original title of the movie, which may be in a different language or format.\n",
    "- `start_year`: The year in which the movie was released.\n",
    "- `genres`: The genres to which the movie belongs.\n",
    "\n",
    "From our range index, we have 146,144 rows in the title_basics_df. Taking a look at the metadata of our DataFrame, we can spot a total of 6 columns with 3 of them having some null values (`original_title`, `runtime_minutes` & `genres`). Columns  `tconst`, `primary_title` and `start_year` have all their values intact.\n",
    "It is worth noting that the DataFrame's columns essentially have values of 3 Datatypes (Dtypes).\n",
    "\n",
    "- `object`: Columns `tconst` ,  `primary_title` `original_title` are  `genres` are of object type. This is equivalent to python's string dtype.\n",
    "- `int64`: Column `start_year` is the only one that stores values in this dtype.\n",
    "- `float64`: Column `runtime_minutes` is of floating-point type.\n",
    "\n"
   ]
  },
  {
   "cell_type": "code",
   "execution_count": 1156,
   "metadata": {},
   "outputs": [
    {
     "name": "stdout",
     "output_type": "stream",
     "text": [
      "<class 'pandas.core.frame.DataFrame'>\n",
      "RangeIndex: 73856 entries, 0 to 73855\n",
      "Data columns (total 3 columns):\n",
      " #   Column         Non-Null Count  Dtype  \n",
      "---  ------         --------------  -----  \n",
      " 0   tconst         73856 non-null  object \n",
      " 1   averagerating  73856 non-null  float64\n",
      " 2   numvotes       73856 non-null  int64  \n",
      "dtypes: float64(1), int64(1), object(1)\n",
      "memory usage: 1.7+ MB\n"
     ]
    }
   ],
   "source": [
    "# checking out the metadata of the title_ratings_df\n",
    "title_ratings_df.info()"
   ]
  },
  {
   "cell_type": "code",
   "execution_count": 1157,
   "metadata": {},
   "outputs": [
    {
     "data": {
      "text/html": [
       "<div>\n",
       "<style scoped>\n",
       "    .dataframe tbody tr th:only-of-type {\n",
       "        vertical-align: middle;\n",
       "    }\n",
       "\n",
       "    .dataframe tbody tr th {\n",
       "        vertical-align: top;\n",
       "    }\n",
       "\n",
       "    .dataframe thead th {\n",
       "        text-align: right;\n",
       "    }\n",
       "</style>\n",
       "<table border=\"1\" class=\"dataframe\">\n",
       "  <thead>\n",
       "    <tr style=\"text-align: right;\">\n",
       "      <th></th>\n",
       "      <th>tconst</th>\n",
       "      <th>averagerating</th>\n",
       "      <th>numvotes</th>\n",
       "    </tr>\n",
       "  </thead>\n",
       "  <tbody>\n",
       "    <tr>\n",
       "      <th>0</th>\n",
       "      <td>tt10356526</td>\n",
       "      <td>8.3</td>\n",
       "      <td>31</td>\n",
       "    </tr>\n",
       "    <tr>\n",
       "      <th>1</th>\n",
       "      <td>tt10384606</td>\n",
       "      <td>8.9</td>\n",
       "      <td>559</td>\n",
       "    </tr>\n",
       "    <tr>\n",
       "      <th>2</th>\n",
       "      <td>tt1042974</td>\n",
       "      <td>6.4</td>\n",
       "      <td>20</td>\n",
       "    </tr>\n",
       "    <tr>\n",
       "      <th>3</th>\n",
       "      <td>tt1043726</td>\n",
       "      <td>4.2</td>\n",
       "      <td>50352</td>\n",
       "    </tr>\n",
       "    <tr>\n",
       "      <th>4</th>\n",
       "      <td>tt1060240</td>\n",
       "      <td>6.5</td>\n",
       "      <td>21</td>\n",
       "    </tr>\n",
       "  </tbody>\n",
       "</table>\n",
       "</div>"
      ],
      "text/plain": [
       "       tconst  averagerating  numvotes\n",
       "0  tt10356526            8.3        31\n",
       "1  tt10384606            8.9       559\n",
       "2   tt1042974            6.4        20\n",
       "3   tt1043726            4.2     50352\n",
       "4   tt1060240            6.5        21"
      ]
     },
     "execution_count": 1157,
     "metadata": {},
     "output_type": "execute_result"
    }
   ],
   "source": [
    "#printing the first 5 rows of in the title_ratings_df\n",
    "title_ratings_df.head()"
   ]
  },
  {
   "cell_type": "markdown",
   "metadata": {},
   "source": [
    "This dataset provides information on movie ratings, including IMDb ratings and the number of votes.\n",
    "\n",
    "Key columns:\n",
    "- `tconst`: A unique identifier that links to the imdb.title.basics dataset.\n",
    "- `averagerating`: The average rating of the movie on IMDb.\n",
    "- `numvotes`: The number of votes contributing to the average rating.\n",
    "Valuable for assessing audience reception and rating data for movies.\n",
    "\n",
    "\n",
    "Reading the medatadata of our title_ratings_df we note that the DataFrame Object has 3 columns and 73,856 rows. All three columns each have 73,856 non-null values. This greatly simplifies the data cleaning process!\n",
    "Data Types associated with these columns are as follows:\n",
    "\n",
    "-  `Object`: column  `tconst` is of object data type, again, equivalent to python's string\n",
    "-  `int64` : column  `numvotes` is of integer dtype. Finally,\n",
    "-  `float64` : columns  `averagerating` is of float type."
   ]
  },
  {
   "cell_type": "code",
   "execution_count": 1158,
   "metadata": {},
   "outputs": [
    {
     "name": "stdout",
     "output_type": "stream",
     "text": [
      "<class 'pandas.core.frame.DataFrame'>\n",
      "RangeIndex: 3387 entries, 0 to 3386\n",
      "Data columns (total 5 columns):\n",
      " #   Column          Non-Null Count  Dtype  \n",
      "---  ------          --------------  -----  \n",
      " 0   title           3387 non-null   object \n",
      " 1   studio          3382 non-null   object \n",
      " 2   domestic_gross  3359 non-null   float64\n",
      " 3   foreign_gross   2037 non-null   object \n",
      " 4   year            3387 non-null   int64  \n",
      "dtypes: float64(1), int64(1), object(3)\n",
      "memory usage: 132.4+ KB\n"
     ]
    }
   ],
   "source": [
    "# checking out the metadata of the bom_movie_gross_df\n",
    "bom_movie_gross_df.info()"
   ]
  },
  {
   "cell_type": "code",
   "execution_count": 1159,
   "metadata": {},
   "outputs": [
    {
     "data": {
      "text/html": [
       "<div>\n",
       "<style scoped>\n",
       "    .dataframe tbody tr th:only-of-type {\n",
       "        vertical-align: middle;\n",
       "    }\n",
       "\n",
       "    .dataframe tbody tr th {\n",
       "        vertical-align: top;\n",
       "    }\n",
       "\n",
       "    .dataframe thead th {\n",
       "        text-align: right;\n",
       "    }\n",
       "</style>\n",
       "<table border=\"1\" class=\"dataframe\">\n",
       "  <thead>\n",
       "    <tr style=\"text-align: right;\">\n",
       "      <th></th>\n",
       "      <th>title</th>\n",
       "      <th>studio</th>\n",
       "      <th>domestic_gross</th>\n",
       "      <th>foreign_gross</th>\n",
       "      <th>year</th>\n",
       "    </tr>\n",
       "  </thead>\n",
       "  <tbody>\n",
       "    <tr>\n",
       "      <th>0</th>\n",
       "      <td>Toy Story 3</td>\n",
       "      <td>BV</td>\n",
       "      <td>415000000.0</td>\n",
       "      <td>652000000</td>\n",
       "      <td>2010</td>\n",
       "    </tr>\n",
       "    <tr>\n",
       "      <th>1</th>\n",
       "      <td>Alice in Wonderland (2010)</td>\n",
       "      <td>BV</td>\n",
       "      <td>334200000.0</td>\n",
       "      <td>691300000</td>\n",
       "      <td>2010</td>\n",
       "    </tr>\n",
       "    <tr>\n",
       "      <th>2</th>\n",
       "      <td>Harry Potter and the Deathly Hallows Part 1</td>\n",
       "      <td>WB</td>\n",
       "      <td>296000000.0</td>\n",
       "      <td>664300000</td>\n",
       "      <td>2010</td>\n",
       "    </tr>\n",
       "    <tr>\n",
       "      <th>3</th>\n",
       "      <td>Inception</td>\n",
       "      <td>WB</td>\n",
       "      <td>292600000.0</td>\n",
       "      <td>535700000</td>\n",
       "      <td>2010</td>\n",
       "    </tr>\n",
       "    <tr>\n",
       "      <th>4</th>\n",
       "      <td>Shrek Forever After</td>\n",
       "      <td>P/DW</td>\n",
       "      <td>238700000.0</td>\n",
       "      <td>513900000</td>\n",
       "      <td>2010</td>\n",
       "    </tr>\n",
       "  </tbody>\n",
       "</table>\n",
       "</div>"
      ],
      "text/plain": [
       "                                         title studio  domestic_gross  \\\n",
       "0                                  Toy Story 3     BV     415000000.0   \n",
       "1                   Alice in Wonderland (2010)     BV     334200000.0   \n",
       "2  Harry Potter and the Deathly Hallows Part 1     WB     296000000.0   \n",
       "3                                    Inception     WB     292600000.0   \n",
       "4                          Shrek Forever After   P/DW     238700000.0   \n",
       "\n",
       "  foreign_gross  year  \n",
       "0     652000000  2010  \n",
       "1     691300000  2010  \n",
       "2     664300000  2010  \n",
       "3     535700000  2010  \n",
       "4     513900000  2010  "
      ]
     },
     "execution_count": 1159,
     "metadata": {},
     "output_type": "execute_result"
    }
   ],
   "source": [
    "# inspecting the first five rows of the bom_movie_gross\n",
    "bom_movie_gross_df.head()"
   ]
  },
  {
   "cell_type": "markdown",
   "metadata": {},
   "source": [
    "This dataset contains data related to the financial aspects of movies, including domestic and foreign gross earnings and release dates.\n",
    "Key columns:\n",
    "- `title`: The movie title, which can be linked to the imdb.title.basics dataset.\n",
    "- `domestic_gross`: The domestic (U.S.) box office gross earnings.\n",
    "- `foreign_gross`: The foreign box office gross earnings.\n",
    "- `year`: The year of release.\n",
    "\n",
    "Helpful for evaluating the financial performance of movies.\n",
    "\n",
    "\n",
    "The rangeindex for this DataFrame indicates that it contains 3387 rows of data, whereas the number of columns are 5.\n",
    "A total of 3 columns have some missing/NaN values namely:  `studio`, `domestic_gross` & `foreign_gross`.\n",
    "Data Types associated with each column in this DataFrame are as follows:\n",
    "\n",
    "-  `object`:  `title`, `studio` & `foreign_gross` store values as object dtype, equivalent to python's string. It appears that we might have to change the dtype for  `foreign_gross` to a more appropriate one.\n",
    "-  `int64`:  `year` column has integer values. We will have to adjust this to a datetime object.\n",
    "-  `float64`:  `domestic_gross` column stores values as float type (decimal numbers)\n"
   ]
  },
  {
   "cell_type": "markdown",
   "metadata": {},
   "source": [
    "### Data Cleaning"
   ]
  },
  {
   "cell_type": "code",
   "execution_count": 1160,
   "metadata": {},
   "outputs": [
    {
     "data": {
      "text/plain": [
       "tconst                 0\n",
       "primary_title          0\n",
       "original_title        21\n",
       "start_year             0\n",
       "runtime_minutes    31739\n",
       "genres              5408\n",
       "dtype: int64"
      ]
     },
     "execution_count": 1160,
     "metadata": {},
     "output_type": "execute_result"
    }
   ],
   "source": [
    "# Checking again the columns with missing values in our title_basics DataFrame\n",
    "title_basics_df.isna().sum()"
   ]
  },
  {
   "cell_type": "code",
   "execution_count": 1161,
   "metadata": {},
   "outputs": [
    {
     "data": {
      "text/html": [
       "<div>\n",
       "<style scoped>\n",
       "    .dataframe tbody tr th:only-of-type {\n",
       "        vertical-align: middle;\n",
       "    }\n",
       "\n",
       "    .dataframe tbody tr th {\n",
       "        vertical-align: top;\n",
       "    }\n",
       "\n",
       "    .dataframe thead th {\n",
       "        text-align: right;\n",
       "    }\n",
       "</style>\n",
       "<table border=\"1\" class=\"dataframe\">\n",
       "  <thead>\n",
       "    <tr style=\"text-align: right;\">\n",
       "      <th></th>\n",
       "      <th>index</th>\n",
       "      <th>Missing Values</th>\n",
       "      <th>Percentage</th>\n",
       "    </tr>\n",
       "  </thead>\n",
       "  <tbody>\n",
       "    <tr>\n",
       "      <th>0</th>\n",
       "      <td>runtime_minutes</td>\n",
       "      <td>31739</td>\n",
       "      <td>0.217176</td>\n",
       "    </tr>\n",
       "    <tr>\n",
       "      <th>1</th>\n",
       "      <td>genres</td>\n",
       "      <td>5408</td>\n",
       "      <td>0.037005</td>\n",
       "    </tr>\n",
       "    <tr>\n",
       "      <th>2</th>\n",
       "      <td>original_title</td>\n",
       "      <td>21</td>\n",
       "      <td>0.000144</td>\n",
       "    </tr>\n",
       "  </tbody>\n",
       "</table>\n",
       "</div>"
      ],
      "text/plain": [
       "             index  Missing Values  Percentage\n",
       "0  runtime_minutes           31739    0.217176\n",
       "1           genres            5408    0.037005\n",
       "2   original_title              21    0.000144"
      ]
     },
     "execution_count": 1161,
     "metadata": {},
     "output_type": "execute_result"
    }
   ],
   "source": [
    "# Calculating the percentage of missing values per column with respect to the entire DF using a function\n",
    "def missing_values(data):\n",
    "    \"\"\"A simple function to identify data with missing values\"\"\"\n",
    "    # identify the total missing values per column\n",
    "    # sort in order\n",
    "    miss = data.isnull().sum().sort_values(ascending = False)\n",
    "\n",
    "    # calculate percentage of the missing values\n",
    "    percentage_miss = (data.isnull().sum() / len(data)).sort_values(ascending = False)\n",
    "\n",
    "    # store in a dataframe\n",
    "    missing = pd.DataFrame({\"Missing Values\": miss, \"Percentage\": percentage_miss}).reset_index()\n",
    "\n",
    "    # remove values that are NOT missing\n",
    "    missing.drop(missing[missing[\"Percentage\"] == 0].index, inplace = True)\n",
    "\n",
    "    return missing\n",
    "\n",
    "# applying our function to the title_basics_df\n",
    "missing_data = missing_values(title_basics_df)\n",
    "missing_data"
   ]
  },
  {
   "cell_type": "code",
   "execution_count": 1162,
   "metadata": {},
   "outputs": [],
   "source": [
    "# Missing values in the genres and original_title columns are few. We can safely drop them from our table,\n",
    "#without greatly affecting our analysis.\n",
    "\n",
    "#filtering our df to only contain non null/ empty strings \n",
    "missing_genres = title_basics_df.genres.isna()\n",
    "title_basics_df = title_basics_df[~missing_genres]"
   ]
  },
  {
   "cell_type": "code",
   "execution_count": 1163,
   "metadata": {},
   "outputs": [
    {
     "data": {
      "text/html": [
       "<div>\n",
       "<style scoped>\n",
       "    .dataframe tbody tr th:only-of-type {\n",
       "        vertical-align: middle;\n",
       "    }\n",
       "\n",
       "    .dataframe tbody tr th {\n",
       "        vertical-align: top;\n",
       "    }\n",
       "\n",
       "    .dataframe thead th {\n",
       "        text-align: right;\n",
       "    }\n",
       "</style>\n",
       "<table border=\"1\" class=\"dataframe\">\n",
       "  <thead>\n",
       "    <tr style=\"text-align: right;\">\n",
       "      <th></th>\n",
       "      <th>index</th>\n",
       "      <th>Missing Values</th>\n",
       "      <th>Percentage</th>\n",
       "    </tr>\n",
       "  </thead>\n",
       "  <tbody>\n",
       "    <tr>\n",
       "      <th>0</th>\n",
       "      <td>runtime_minutes</td>\n",
       "      <td>28503</td>\n",
       "      <td>0.202528</td>\n",
       "    </tr>\n",
       "    <tr>\n",
       "      <th>1</th>\n",
       "      <td>original_title</td>\n",
       "      <td>2</td>\n",
       "      <td>0.000014</td>\n",
       "    </tr>\n",
       "  </tbody>\n",
       "</table>\n",
       "</div>"
      ],
      "text/plain": [
       "             index  Missing Values  Percentage\n",
       "0  runtime_minutes           28503    0.202528\n",
       "1   original_title               2    0.000014"
      ]
     },
     "execution_count": 1163,
     "metadata": {},
     "output_type": "execute_result"
    }
   ],
   "source": [
    "# Running our function again to confirm that all null values in the genre column have been dropped.\n",
    "missing_values(title_basics_df)"
   ]
  },
  {
   "cell_type": "code",
   "execution_count": 1164,
   "metadata": {},
   "outputs": [
    {
     "data": {
      "text/html": [
       "<div>\n",
       "<style scoped>\n",
       "    .dataframe tbody tr th:only-of-type {\n",
       "        vertical-align: middle;\n",
       "    }\n",
       "\n",
       "    .dataframe tbody tr th {\n",
       "        vertical-align: top;\n",
       "    }\n",
       "\n",
       "    .dataframe thead th {\n",
       "        text-align: right;\n",
       "    }\n",
       "</style>\n",
       "<table border=\"1\" class=\"dataframe\">\n",
       "  <thead>\n",
       "    <tr style=\"text-align: right;\">\n",
       "      <th></th>\n",
       "      <th>index</th>\n",
       "      <th>Missing Values</th>\n",
       "      <th>Percentage</th>\n",
       "    </tr>\n",
       "  </thead>\n",
       "  <tbody>\n",
       "    <tr>\n",
       "      <th>0</th>\n",
       "      <td>runtime_minutes</td>\n",
       "      <td>28502</td>\n",
       "      <td>0.202524</td>\n",
       "    </tr>\n",
       "  </tbody>\n",
       "</table>\n",
       "</div>"
      ],
      "text/plain": [
       "             index  Missing Values  Percentage\n",
       "0  runtime_minutes           28502    0.202524"
      ]
     },
     "execution_count": 1164,
     "metadata": {},
     "output_type": "execute_result"
    }
   ],
   "source": [
    "# Doing the same for the original_title column with only 2 missing values\n",
    "missing_title = title_basics_df.original_title.isna()\n",
    "title_basics_df = title_basics_df[~missing_title]\n",
    "\n",
    "#confirming the operation was successful\n",
    "missing_values(title_basics_df)"
   ]
  },
  {
   "cell_type": "markdown",
   "metadata": {},
   "source": [
    "Given the goal of creating successful films and the potential significance of runtime in understanding movie success, it is advisable to use imputation for handling missing runtime minutes. The choice between mean and median imputation depends on the distribution of the available data:\n",
    "\n",
    "`#Mean Imputation:`\n",
    "\n",
    "Mean imputation if the distribution of runtime minutes is approximately symmetric and not heavily skewed. \n",
    "It provides the most accurate estimate of the central tendency.\n",
    "\n",
    "`#Median Imputation:`\n",
    "\n",
    "If the distribution of runtime minutes is skewed or contains outliers, median imputation is a robust choice. It is less sensitive to extreme values."
   ]
  },
  {
   "cell_type": "code",
   "execution_count": 1165,
   "metadata": {},
   "outputs": [
    {
     "name": "stdout",
     "output_type": "stream",
     "text": [
      "minimum runtime: 1.0\n",
      "Maximum runtime: 51420.0\n",
      "Mean runtime: 86.26155641884668\n"
     ]
    },
    {
     "data": {
      "image/png": "[encoded data removed]",
      "text/plain": [
       "<Figure size 864x432 with 1 Axes>"
      ]
     },
     "metadata": {
      "needs_background": "light"
     },
     "output_type": "display_data"
    }
   ],
   "source": [
    "# Visualizing distribution of runtime minutes in our DataFrame\n",
    "runtimes = title_basics_df.runtime_minutes\n",
    "\n",
    "# getting the minimum and maximum values in our runtime_minutes col\n",
    "\n",
    "min_runtime = runtimes.min()\n",
    "max_runtime = runtimes.max()\n",
    "mean_runtime = runtimes.mean()\n",
    "print(f\"minimum runtime: {min_runtime}\")\n",
    "print(f\"Maximum runtime: {max_runtime}\")\n",
    "print(f\"Mean runtime: {mean_runtime}\")\n",
    "\n",
    "# selecting the column for the boxplot\n",
    "col_data = title_basics_df.runtime_minutes\n",
    "\n",
    "# Creating boxplot using Seaborn Library\n",
    "plt.figure(figsize=(12,6))\n",
    "sns.set_context('notebook')\n",
    "sns.boxplot(x= col_data, color= \"blue\")\n",
    "plt.title('Runtime_minutes Boxplot');\n"
   ]
  },
  {
   "cell_type": "code",
   "execution_count": 1166,
   "metadata": {},
   "outputs": [
    {
     "data": {
      "text/html": [
       "<div>\n",
       "<style scoped>\n",
       "    .dataframe tbody tr th:only-of-type {\n",
       "        vertical-align: middle;\n",
       "    }\n",
       "\n",
       "    .dataframe tbody tr th {\n",
       "        vertical-align: top;\n",
       "    }\n",
       "\n",
       "    .dataframe thead th {\n",
       "        text-align: right;\n",
       "    }\n",
       "</style>\n",
       "<table border=\"1\" class=\"dataframe\">\n",
       "  <thead>\n",
       "    <tr style=\"text-align: right;\">\n",
       "      <th></th>\n",
       "      <th>tconst</th>\n",
       "      <th>primary_title</th>\n",
       "      <th>original_title</th>\n",
       "      <th>start_year</th>\n",
       "      <th>runtime_minutes</th>\n",
       "      <th>genres</th>\n",
       "    </tr>\n",
       "  </thead>\n",
       "  <tbody>\n",
       "    <tr>\n",
       "      <th>132389</th>\n",
       "      <td>tt8273150</td>\n",
       "      <td>Logistics</td>\n",
       "      <td>Logistics</td>\n",
       "      <td>2012</td>\n",
       "      <td>51420.0</td>\n",
       "      <td>Documentary</td>\n",
       "    </tr>\n",
       "  </tbody>\n",
       "</table>\n",
       "</div>"
      ],
      "text/plain": [
       "           tconst primary_title original_title  start_year  runtime_minutes  \\\n",
       "132389  tt8273150     Logistics      Logistics        2012          51420.0   \n",
       "\n",
       "             genres  \n",
       "132389  Documentary  "
      ]
     },
     "execution_count": 1166,
     "metadata": {},
     "output_type": "execute_result"
    }
   ],
   "source": [
    "# checking to see which movie has the highest runtime just for fun\n",
    "title_basics_df.loc[title_basics_df.runtime_minutes == max_runtime]"
   ]
  },
  {
   "cell_type": "markdown",
   "metadata": {},
   "source": [
    "The data within the \"runtime_minutes\" column exhibits a substantial skew, as evident from the distribution. Notably, the 25th, 75th percentiles, as well as the median, are situated towards the left side of the plot. Our dataset includes a movie with an extraordinary runtime of 51,420 minutes, equivalent to approximately 38 days, making it the longest film ever created (more details can be found in this [Wiki Page](https://en.wikipedia.org/wiki/Logistics_(film))). Given the asymmetric nature of the data, it is advisable to impute missing values using the `median` value for this column.\n"
   ]
  },
  {
   "cell_type": "code",
   "execution_count": 1167,
   "metadata": {},
   "outputs": [],
   "source": [
    "# imputing missing values with the median runtime\n",
    "title_basics_df.runtime_minutes.fillna(title_basics_df.runtime_minutes.median(), inplace=True)"
   ]
  },
  {
   "cell_type": "code",
   "execution_count": 1168,
   "metadata": {},
   "outputs": [
    {
     "name": "stdout",
     "output_type": "stream",
     "text": [
      "Empty DataFrame\n",
      "Columns: [index, Missing Values, Percentage]\n",
      "Index: []\n",
      "Num of Duplicated Rows: 0\n"
     ]
    }
   ],
   "source": [
    "# Checing our DataFrame for any residual columns with missing values & watching out for duplicates\n",
    "print(missing_values(title_basics_df))\n",
    "duplicate_rows = title_basics_df.duplicated().sum()\n",
    "print(f\"Num of Duplicated Rows: {duplicate_rows}\")\n"
   ]
  },
  {
   "cell_type": "code",
   "execution_count": 1169,
   "metadata": {},
   "outputs": [
    {
     "data": {
      "text/html": [
       "<div>\n",
       "<style scoped>\n",
       "    .dataframe tbody tr th:only-of-type {\n",
       "        vertical-align: middle;\n",
       "    }\n",
       "\n",
       "    .dataframe tbody tr th {\n",
       "        vertical-align: top;\n",
       "    }\n",
       "\n",
       "    .dataframe thead th {\n",
       "        text-align: right;\n",
       "    }\n",
       "</style>\n",
       "<table border=\"1\" class=\"dataframe\">\n",
       "  <thead>\n",
       "    <tr style=\"text-align: right;\">\n",
       "      <th></th>\n",
       "      <th>index</th>\n",
       "      <th>Missing Values</th>\n",
       "      <th>Percentage</th>\n",
       "    </tr>\n",
       "  </thead>\n",
       "  <tbody>\n",
       "    <tr>\n",
       "      <th>0</th>\n",
       "      <td>foreign_gross</td>\n",
       "      <td>1350</td>\n",
       "      <td>0.398583</td>\n",
       "    </tr>\n",
       "    <tr>\n",
       "      <th>1</th>\n",
       "      <td>domestic_gross</td>\n",
       "      <td>28</td>\n",
       "      <td>0.008267</td>\n",
       "    </tr>\n",
       "    <tr>\n",
       "      <th>2</th>\n",
       "      <td>studio</td>\n",
       "      <td>5</td>\n",
       "      <td>0.001476</td>\n",
       "    </tr>\n",
       "  </tbody>\n",
       "</table>\n",
       "</div>"
      ],
      "text/plain": [
       "            index  Missing Values  Percentage\n",
       "0   foreign_gross            1350    0.398583\n",
       "1  domestic_gross              28    0.008267\n",
       "2          studio               5    0.001476"
      ]
     },
     "execution_count": 1169,
     "metadata": {},
     "output_type": "execute_result"
    }
   ],
   "source": [
    "# Repeating similar steps for our bom.movie.df, since our second DataFrame doesn't have any missing values\n",
    "\n",
    "# Calculating the percentage of missing values per column with respect to the entire DF using our handy function\n",
    "\n",
    "missing_data = missing_values(bom_movie_gross_df)\n",
    "missing_data"
   ]
  },
  {
   "cell_type": "code",
   "execution_count": 1170,
   "metadata": {},
   "outputs": [],
   "source": [
    "# Filtering the Df to remove all the rows that have missing values in the studio column\n",
    "missing_studios = bom_movie_gross_df.studio.isna()\n",
    "bom_movie_gross_df = bom_movie_gross_df[~missing_studios]"
   ]
  },
  {
   "cell_type": "code",
   "execution_count": 1171,
   "metadata": {},
   "outputs": [
    {
     "data": {
      "text/html": [
       "<div>\n",
       "<style scoped>\n",
       "    .dataframe tbody tr th:only-of-type {\n",
       "        vertical-align: middle;\n",
       "    }\n",
       "\n",
       "    .dataframe tbody tr th {\n",
       "        vertical-align: top;\n",
       "    }\n",
       "\n",
       "    .dataframe thead th {\n",
       "        text-align: right;\n",
       "    }\n",
       "</style>\n",
       "<table border=\"1\" class=\"dataframe\">\n",
       "  <thead>\n",
       "    <tr style=\"text-align: right;\">\n",
       "      <th></th>\n",
       "      <th>index</th>\n",
       "      <th>Missing Values</th>\n",
       "      <th>Percentage</th>\n",
       "    </tr>\n",
       "  </thead>\n",
       "  <tbody>\n",
       "    <tr>\n",
       "      <th>0</th>\n",
       "      <td>foreign_gross</td>\n",
       "      <td>1349</td>\n",
       "      <td>0.398876</td>\n",
       "    </tr>\n",
       "    <tr>\n",
       "      <th>1</th>\n",
       "      <td>domestic_gross</td>\n",
       "      <td>26</td>\n",
       "      <td>0.007688</td>\n",
       "    </tr>\n",
       "  </tbody>\n",
       "</table>\n",
       "</div>"
      ],
      "text/plain": [
       "            index  Missing Values  Percentage\n",
       "0   foreign_gross            1349    0.398876\n",
       "1  domestic_gross              26    0.007688"
      ]
     },
     "execution_count": 1171,
     "metadata": {},
     "output_type": "execute_result"
    }
   ],
   "source": [
    "# Verifying that the operation was successful\n",
    "missing_values(bom_movie_gross_df)"
   ]
  },
  {
   "cell_type": "code",
   "execution_count": 1172,
   "metadata": {},
   "outputs": [],
   "source": [
    "#Attempting to convert the dtype of the foreign_gross column from object to float64 throws an error\n",
    "#This phenomenon happens when there are some characters that inhibits this change, and in this case, it is\n",
    "#the comma (,) character\n",
    "\n",
    "#removing the , character from foreign_gross column\n",
    "\n",
    "bom_movie_gross_df.foreign_gross.replace(',', '', inplace=True, regex=True)"
   ]
  },
  {
   "cell_type": "code",
   "execution_count": 1173,
   "metadata": {},
   "outputs": [
    {
     "data": {
      "text/plain": [
       "title              object\n",
       "studio             object\n",
       "domestic_gross    float64\n",
       "foreign_gross     float64\n",
       "year                int64\n",
       "dtype: object"
      ]
     },
     "execution_count": 1173,
     "metadata": {},
     "output_type": "execute_result"
    }
   ],
   "source": [
    "bom_movie_gross_df.foreign_gross = bom_movie_gross_df.foreign_gross.astype('float64')\n",
    "\n",
    "#Confirming that dtype has successfully changed from object to float64\n",
    "\n",
    "bom_movie_gross_df.dtypes"
   ]
  },
  {
   "cell_type": "code",
   "execution_count": 1174,
   "metadata": {},
   "outputs": [
    {
     "name": "stdout",
     "output_type": "stream",
     "text": [
      "minimum runtime: 600.0\n",
      "Maximum runtime: 960500000.0\n",
      "Mean runtime: 74954901.2673389\n"
     ]
    },
    {
     "data": {
      "image/png": "[encoded data removed]",
      "text/plain": [
       "<Figure size 864x432 with 1 Axes>"
      ]
     },
     "metadata": {
      "needs_background": "light"
     },
     "output_type": "display_data"
    }
   ],
   "source": [
    "# Visualizing distribution of foreign_gross in our DataFrame\n",
    "income_foreign = bom_movie_gross_df.foreign_gross\n",
    "\n",
    "# getting the minimum and maximum values in our runtime_minutes col\n",
    "\n",
    "min_foreign = income_foreign.min()\n",
    "max_foreign = income_foreign.max()\n",
    "mean_foreign = income_foreign.mean()\n",
    "print(f\"minimum runtime: {min_foreign}\")\n",
    "print(f\"Maximum runtime: {max_foreign}\")\n",
    "print(f\"Mean runtime: {mean_foreign}\")\n",
    "\n",
    "# selecting the column for the boxplot\n",
    "col_data = bom_movie_gross_df.foreign_gross\n",
    "\n",
    "# Creating boxplot using Seaborn Library\n",
    "plt.figure(figsize= (12,6))\n",
    "sns.boxplot(x= col_data, color= \"salmon\")\n",
    "plt.title('Foreign Gross Income Boxplot')\n",
    "plt.xlabel('foreign_gross in billions');"
   ]
  },
  {
   "cell_type": "code",
   "execution_count": 1175,
   "metadata": {},
   "outputs": [
    {
     "data": {
      "text/html": [
       "<div>\n",
       "<style scoped>\n",
       "    .dataframe tbody tr th:only-of-type {\n",
       "        vertical-align: middle;\n",
       "    }\n",
       "\n",
       "    .dataframe tbody tr th {\n",
       "        vertical-align: top;\n",
       "    }\n",
       "\n",
       "    .dataframe thead th {\n",
       "        text-align: right;\n",
       "    }\n",
       "</style>\n",
       "<table border=\"1\" class=\"dataframe\">\n",
       "  <thead>\n",
       "    <tr style=\"text-align: right;\">\n",
       "      <th></th>\n",
       "      <th>index</th>\n",
       "      <th>Missing Values</th>\n",
       "      <th>Percentage</th>\n",
       "    </tr>\n",
       "  </thead>\n",
       "  <tbody>\n",
       "    <tr>\n",
       "      <th>0</th>\n",
       "      <td>domestic_gross</td>\n",
       "      <td>26</td>\n",
       "      <td>0.007688</td>\n",
       "    </tr>\n",
       "  </tbody>\n",
       "</table>\n",
       "</div>"
      ],
      "text/plain": [
       "            index  Missing Values  Percentage\n",
       "0  domestic_gross              26    0.007688"
      ]
     },
     "execution_count": 1175,
     "metadata": {},
     "output_type": "execute_result"
    }
   ],
   "source": [
    "# Imputing with the median value since our data is skewed\n",
    "bom_movie_gross_df.foreign_gross.fillna(bom_movie_gross_df.foreign_gross.isna().median(), inplace=True)\n",
    "\n",
    "#Verifying that the operation was successful by calling the `missing_values` function\n",
    "missing_values(bom_movie_gross_df)"
   ]
  },
  {
   "cell_type": "code",
   "execution_count": 1176,
   "metadata": {},
   "outputs": [
    {
     "name": "stdout",
     "output_type": "stream",
     "text": [
      "minimum runtime: 100.0\n",
      "Maximum runtime: 936700000.0\n",
      "Mean runtime: 28771489.56495828\n"
     ]
    },
    {
     "data": {
      "image/png": "[encoded data removed]",
      "text/plain": [
       "<Figure size 1080x360 with 2 Axes>"
      ]
     },
     "metadata": {
      "needs_background": "light"
     },
     "output_type": "display_data"
    }
   ],
   "source": [
    "# Visualizing distribution of domestic_gross in our DataFrame\n",
    "income_domestic = bom_movie_gross_df.domestic_gross\n",
    "\n",
    "# getting the minimum and maximum values in our runtime_minutes col\n",
    "\n",
    "min_domestic = income_domestic.min()\n",
    "max_domestic = income_domestic.max()\n",
    "mean_domestic = income_domestic.mean()\n",
    "print(f\"minimum runtime: {min_domestic}\")\n",
    "print(f\"Maximum runtime: {max_domestic}\")\n",
    "print(f\"Mean runtime: {mean_domestic}\")\n",
    "\n",
    "# selecting the column for the boxplot\n",
    "col_data = bom_movie_gross_df.domestic_gross\n",
    "\n",
    "# Creating boxplot & histogram using Seaborn Library\n",
    "fig, ax = plt.subplots(ncols=2, nrows=1, figsize= (15,5))\n",
    "sns.boxplot(x=col_data, ax=ax[0], color='cyan')\n",
    "ax[0].set_title('Domestic Gross Boxplot')\n",
    "ax[0].set_xlabel('domestic_gross (hundreds of millions)')\n",
    "bom_movie_gross_df.domestic_gross.hist(ax=ax[1], color='cyan')\n",
    "ax[1].set_title('Domestic Gross Histogram')\n",
    "ax[1].set_xlabel('domestic_gross (hundreds of millions)')\n",
    "plt.tight_layout;"
   ]
  },
  {
   "cell_type": "code",
   "execution_count": 1177,
   "metadata": {},
   "outputs": [
    {
     "name": "stdout",
     "output_type": "stream",
     "text": [
      "Num of duplicates: 0\n",
      "Empty DataFrame\n",
      "Columns: [index, Missing Values, Percentage]\n",
      "Index: []\n"
     ]
    }
   ],
   "source": [
    "# Imputing with the median value since our data is skewed\n",
    "bom_movie_gross_df.domestic_gross.fillna(bom_movie_gross_df.domestic_gross.isna().median(), inplace=True)\n",
    "\n",
    "#Verifying that the operation was successful by calling the `missing_values` function & checking for any instances of duplicates\n",
    "print(f\"Num of duplicates: {bom_movie_gross_df.duplicated().sum()}\")\n",
    "print(missing_values(bom_movie_gross_df))"
   ]
  },
  {
   "cell_type": "markdown",
   "metadata": {},
   "source": [
    "## Data Integration & Feature Engineering"
   ]
  },
  {
   "cell_type": "code",
   "execution_count": 1178,
   "metadata": {},
   "outputs": [
    {
     "data": {
      "text/html": [
       "<div>\n",
       "<style scoped>\n",
       "    .dataframe tbody tr th:only-of-type {\n",
       "        vertical-align: middle;\n",
       "    }\n",
       "\n",
       "    .dataframe tbody tr th {\n",
       "        vertical-align: top;\n",
       "    }\n",
       "\n",
       "    .dataframe thead th {\n",
       "        text-align: right;\n",
       "    }\n",
       "</style>\n",
       "<table border=\"1\" class=\"dataframe\">\n",
       "  <thead>\n",
       "    <tr style=\"text-align: right;\">\n",
       "      <th></th>\n",
       "      <th>title</th>\n",
       "      <th>studio</th>\n",
       "      <th>domestic_gross</th>\n",
       "      <th>foreign_gross</th>\n",
       "      <th>year</th>\n",
       "      <th>tconst</th>\n",
       "      <th>primary_title</th>\n",
       "      <th>original_title</th>\n",
       "      <th>start_year</th>\n",
       "      <th>runtime_minutes</th>\n",
       "      <th>genres</th>\n",
       "      <th>averagerating</th>\n",
       "      <th>numvotes</th>\n",
       "    </tr>\n",
       "  </thead>\n",
       "  <tbody>\n",
       "    <tr>\n",
       "      <th>0</th>\n",
       "      <td>Toy Story 3</td>\n",
       "      <td>BV</td>\n",
       "      <td>415000000.0</td>\n",
       "      <td>652000000.0</td>\n",
       "      <td>2010</td>\n",
       "      <td>tt0435761</td>\n",
       "      <td>Toy Story 3</td>\n",
       "      <td>Toy Story 3</td>\n",
       "      <td>2010.0</td>\n",
       "      <td>103.0</td>\n",
       "      <td>Adventure,Animation,Comedy</td>\n",
       "      <td>8.3</td>\n",
       "      <td>682218.0</td>\n",
       "    </tr>\n",
       "    <tr>\n",
       "      <th>1</th>\n",
       "      <td>Alice in Wonderland (2010)</td>\n",
       "      <td>BV</td>\n",
       "      <td>334200000.0</td>\n",
       "      <td>691300000.0</td>\n",
       "      <td>2010</td>\n",
       "      <td>NaN</td>\n",
       "      <td>NaN</td>\n",
       "      <td>NaN</td>\n",
       "      <td>NaN</td>\n",
       "      <td>NaN</td>\n",
       "      <td>NaN</td>\n",
       "      <td>NaN</td>\n",
       "      <td>NaN</td>\n",
       "    </tr>\n",
       "    <tr>\n",
       "      <th>2</th>\n",
       "      <td>Harry Potter and the Deathly Hallows Part 1</td>\n",
       "      <td>WB</td>\n",
       "      <td>296000000.0</td>\n",
       "      <td>664300000.0</td>\n",
       "      <td>2010</td>\n",
       "      <td>NaN</td>\n",
       "      <td>NaN</td>\n",
       "      <td>NaN</td>\n",
       "      <td>NaN</td>\n",
       "      <td>NaN</td>\n",
       "      <td>NaN</td>\n",
       "      <td>NaN</td>\n",
       "      <td>NaN</td>\n",
       "    </tr>\n",
       "    <tr>\n",
       "      <th>3</th>\n",
       "      <td>Inception</td>\n",
       "      <td>WB</td>\n",
       "      <td>292600000.0</td>\n",
       "      <td>535700000.0</td>\n",
       "      <td>2010</td>\n",
       "      <td>tt1375666</td>\n",
       "      <td>Inception</td>\n",
       "      <td>Inception</td>\n",
       "      <td>2010.0</td>\n",
       "      <td>148.0</td>\n",
       "      <td>Action,Adventure,Sci-Fi</td>\n",
       "      <td>8.8</td>\n",
       "      <td>1841066.0</td>\n",
       "    </tr>\n",
       "    <tr>\n",
       "      <th>4</th>\n",
       "      <td>Shrek Forever After</td>\n",
       "      <td>P/DW</td>\n",
       "      <td>238700000.0</td>\n",
       "      <td>513900000.0</td>\n",
       "      <td>2010</td>\n",
       "      <td>tt0892791</td>\n",
       "      <td>Shrek Forever After</td>\n",
       "      <td>Shrek Forever After</td>\n",
       "      <td>2010.0</td>\n",
       "      <td>93.0</td>\n",
       "      <td>Adventure,Animation,Comedy</td>\n",
       "      <td>6.3</td>\n",
       "      <td>167532.0</td>\n",
       "    </tr>\n",
       "  </tbody>\n",
       "</table>\n",
       "</div>"
      ],
      "text/plain": [
       "                                         title studio  domestic_gross  \\\n",
       "0                                  Toy Story 3     BV     415000000.0   \n",
       "1                   Alice in Wonderland (2010)     BV     334200000.0   \n",
       "2  Harry Potter and the Deathly Hallows Part 1     WB     296000000.0   \n",
       "3                                    Inception     WB     292600000.0   \n",
       "4                          Shrek Forever After   P/DW     238700000.0   \n",
       "\n",
       "   foreign_gross  year     tconst        primary_title       original_title  \\\n",
       "0    652000000.0  2010  tt0435761          Toy Story 3          Toy Story 3   \n",
       "1    691300000.0  2010        NaN                  NaN                  NaN   \n",
       "2    664300000.0  2010        NaN                  NaN                  NaN   \n",
       "3    535700000.0  2010  tt1375666            Inception            Inception   \n",
       "4    513900000.0  2010  tt0892791  Shrek Forever After  Shrek Forever After   \n",
       "\n",
       "   start_year  runtime_minutes                      genres  averagerating  \\\n",
       "0      2010.0            103.0  Adventure,Animation,Comedy            8.3   \n",
       "1         NaN              NaN                         NaN            NaN   \n",
       "2         NaN              NaN                         NaN            NaN   \n",
       "3      2010.0            148.0     Action,Adventure,Sci-Fi            8.8   \n",
       "4      2010.0             93.0  Adventure,Animation,Comedy            6.3   \n",
       "\n",
       "    numvotes  \n",
       "0   682218.0  \n",
       "1        NaN  \n",
       "2        NaN  \n",
       "3  1841066.0  \n",
       "4   167532.0  "
      ]
     },
     "execution_count": 1178,
     "metadata": {},
     "output_type": "execute_result"
    }
   ],
   "source": [
    "# Merge the 'bom.movie_gross' dataset with 'imdb.title.basics' and 'imdb.title.ratings' using 'title' as the merge key\n",
    "# Opted to choose a left join operation so as to preserve the box office data which is integral for analysis of finacial \n",
    "# performance across different genres\n",
    "combined_data = bom_movie_gross_df.merge(title_basics_df, left_on='title', right_on='original_title', how='left')\n",
    "combined_data = combined_data.merge(title_ratings_df, left_on='tconst', right_on='tconst', how='left')\n",
    "combined_data.head()\n"
   ]
  },
  {
   "cell_type": "code",
   "execution_count": 1179,
   "metadata": {},
   "outputs": [
    {
     "data": {
      "text/html": [
       "<div>\n",
       "<style scoped>\n",
       "    .dataframe tbody tr th:only-of-type {\n",
       "        vertical-align: middle;\n",
       "    }\n",
       "\n",
       "    .dataframe tbody tr th {\n",
       "        vertical-align: top;\n",
       "    }\n",
       "\n",
       "    .dataframe thead th {\n",
       "        text-align: right;\n",
       "    }\n",
       "</style>\n",
       "<table border=\"1\" class=\"dataframe\">\n",
       "  <thead>\n",
       "    <tr style=\"text-align: right;\">\n",
       "      <th></th>\n",
       "      <th>index</th>\n",
       "      <th>Missing Values</th>\n",
       "      <th>Percentage</th>\n",
       "    </tr>\n",
       "  </thead>\n",
       "  <tbody>\n",
       "    <tr>\n",
       "      <th>0</th>\n",
       "      <td>numvotes</td>\n",
       "      <td>1520</td>\n",
       "      <td>0.383838</td>\n",
       "    </tr>\n",
       "    <tr>\n",
       "      <th>1</th>\n",
       "      <td>averagerating</td>\n",
       "      <td>1520</td>\n",
       "      <td>0.383838</td>\n",
       "    </tr>\n",
       "    <tr>\n",
       "      <th>2</th>\n",
       "      <td>genres</td>\n",
       "      <td>1223</td>\n",
       "      <td>0.308838</td>\n",
       "    </tr>\n",
       "    <tr>\n",
       "      <th>3</th>\n",
       "      <td>runtime_minutes</td>\n",
       "      <td>1223</td>\n",
       "      <td>0.308838</td>\n",
       "    </tr>\n",
       "    <tr>\n",
       "      <th>4</th>\n",
       "      <td>start_year</td>\n",
       "      <td>1223</td>\n",
       "      <td>0.308838</td>\n",
       "    </tr>\n",
       "    <tr>\n",
       "      <th>5</th>\n",
       "      <td>original_title</td>\n",
       "      <td>1223</td>\n",
       "      <td>0.308838</td>\n",
       "    </tr>\n",
       "    <tr>\n",
       "      <th>6</th>\n",
       "      <td>primary_title</td>\n",
       "      <td>1223</td>\n",
       "      <td>0.308838</td>\n",
       "    </tr>\n",
       "    <tr>\n",
       "      <th>7</th>\n",
       "      <td>tconst</td>\n",
       "      <td>1223</td>\n",
       "      <td>0.308838</td>\n",
       "    </tr>\n",
       "  </tbody>\n",
       "</table>\n",
       "</div>"
      ],
      "text/plain": [
       "             index  Missing Values  Percentage\n",
       "0         numvotes            1520    0.383838\n",
       "1    averagerating            1520    0.383838\n",
       "2           genres            1223    0.308838\n",
       "3  runtime_minutes            1223    0.308838\n",
       "4       start_year            1223    0.308838\n",
       "5   original_title            1223    0.308838\n",
       "6    primary_title            1223    0.308838\n",
       "7           tconst            1223    0.308838"
      ]
     },
     "execution_count": 1179,
     "metadata": {},
     "output_type": "execute_result"
    }
   ],
   "source": [
    "missing_values(combined_data)"
   ]
  },
  {
   "cell_type": "code",
   "execution_count": 1180,
   "metadata": {},
   "outputs": [
    {
     "name": "stdout",
     "output_type": "stream",
     "text": [
      "Index(['title', 'studio', 'domestic_gross', 'foreign_gross', 'year',\n",
      "       'start_year', 'runtime_minutes', 'genres', 'averagerating', 'numvotes'],\n",
      "      dtype='object')\n"
     ]
    }
   ],
   "source": [
    "# Removing the primary_title, tconst, and original_title columns in our combined_df, \n",
    "# since the title column in the merged df will suffice\n",
    "cols_to_drop = ['primary_title', 'tconst', 'original_title']\n",
    "combined_data.drop(columns=cols_to_drop, axis=1, inplace=True)\n",
    "#Confirming the operation was successful\n",
    "print(combined_data.columns)"
   ]
  },
  {
   "cell_type": "code",
   "execution_count": 1181,
   "metadata": {},
   "outputs": [
    {
     "data": {
      "text/plain": [
       "title               object\n",
       "studio              object\n",
       "domestic_gross     float64\n",
       "foreign_gross      float64\n",
       "year                 int64\n",
       "start_year         float64\n",
       "runtime_minutes    float64\n",
       "genres              object\n",
       "averagerating      float64\n",
       "numvotes           float64\n",
       "dtype: object"
      ]
     },
     "execution_count": 1181,
     "metadata": {},
     "output_type": "execute_result"
    }
   ],
   "source": [
    "combined_data.dtypes"
   ]
  },
  {
   "cell_type": "code",
   "execution_count": 1182,
   "metadata": {},
   "outputs": [
    {
     "data": {
      "text/plain": [
       "(3960, 10)"
      ]
     },
     "execution_count": 1182,
     "metadata": {},
     "output_type": "execute_result"
    }
   ],
   "source": [
    "combined_data.shape"
   ]
  },
  {
   "cell_type": "code",
   "execution_count": 1183,
   "metadata": {},
   "outputs": [
    {
     "data": {
      "text/html": [
       "<div>\n",
       "<style scoped>\n",
       "    .dataframe tbody tr th:only-of-type {\n",
       "        vertical-align: middle;\n",
       "    }\n",
       "\n",
       "    .dataframe tbody tr th {\n",
       "        vertical-align: top;\n",
       "    }\n",
       "\n",
       "    .dataframe thead th {\n",
       "        text-align: right;\n",
       "    }\n",
       "</style>\n",
       "<table border=\"1\" class=\"dataframe\">\n",
       "  <thead>\n",
       "    <tr style=\"text-align: right;\">\n",
       "      <th></th>\n",
       "      <th>genre_ids</th>\n",
       "      <th>id</th>\n",
       "      <th>original_language</th>\n",
       "      <th>original_title</th>\n",
       "      <th>popularity</th>\n",
       "      <th>release_date</th>\n",
       "      <th>title</th>\n",
       "      <th>vote_average</th>\n",
       "      <th>vote_count</th>\n",
       "    </tr>\n",
       "  </thead>\n",
       "  <tbody>\n",
       "    <tr>\n",
       "      <th>0</th>\n",
       "      <td>[12, 14, 10751]</td>\n",
       "      <td>12444</td>\n",
       "      <td>en</td>\n",
       "      <td>Harry Potter and the Deathly Hallows: Part 1</td>\n",
       "      <td>33.533</td>\n",
       "      <td>2010-11-19</td>\n",
       "      <td>Harry Potter and the Deathly Hallows: Part 1</td>\n",
       "      <td>7.7</td>\n",
       "      <td>10788</td>\n",
       "    </tr>\n",
       "    <tr>\n",
       "      <th>1</th>\n",
       "      <td>[14, 12, 16, 10751]</td>\n",
       "      <td>10191</td>\n",
       "      <td>en</td>\n",
       "      <td>How to Train Your Dragon</td>\n",
       "      <td>28.734</td>\n",
       "      <td>2010-03-26</td>\n",
       "      <td>How to Train Your Dragon</td>\n",
       "      <td>7.7</td>\n",
       "      <td>7610</td>\n",
       "    </tr>\n",
       "    <tr>\n",
       "      <th>2</th>\n",
       "      <td>[12, 28, 878]</td>\n",
       "      <td>10138</td>\n",
       "      <td>en</td>\n",
       "      <td>Iron Man 2</td>\n",
       "      <td>28.515</td>\n",
       "      <td>2010-05-07</td>\n",
       "      <td>Iron Man 2</td>\n",
       "      <td>6.8</td>\n",
       "      <td>12368</td>\n",
       "    </tr>\n",
       "    <tr>\n",
       "      <th>3</th>\n",
       "      <td>[16, 35, 10751]</td>\n",
       "      <td>862</td>\n",
       "      <td>en</td>\n",
       "      <td>Toy Story</td>\n",
       "      <td>28.005</td>\n",
       "      <td>1995-11-22</td>\n",
       "      <td>Toy Story</td>\n",
       "      <td>7.9</td>\n",
       "      <td>10174</td>\n",
       "    </tr>\n",
       "    <tr>\n",
       "      <th>4</th>\n",
       "      <td>[28, 878, 12]</td>\n",
       "      <td>27205</td>\n",
       "      <td>en</td>\n",
       "      <td>Inception</td>\n",
       "      <td>27.920</td>\n",
       "      <td>2010-07-16</td>\n",
       "      <td>Inception</td>\n",
       "      <td>8.3</td>\n",
       "      <td>22186</td>\n",
       "    </tr>\n",
       "  </tbody>\n",
       "</table>\n",
       "</div>"
      ],
      "text/plain": [
       "             genre_ids     id original_language  \\\n",
       "0      [12, 14, 10751]  12444                en   \n",
       "1  [14, 12, 16, 10751]  10191                en   \n",
       "2        [12, 28, 878]  10138                en   \n",
       "3      [16, 35, 10751]    862                en   \n",
       "4        [28, 878, 12]  27205                en   \n",
       "\n",
       "                                 original_title  popularity release_date  \\\n",
       "0  Harry Potter and the Deathly Hallows: Part 1      33.533   2010-11-19   \n",
       "1                      How to Train Your Dragon      28.734   2010-03-26   \n",
       "2                                    Iron Man 2      28.515   2010-05-07   \n",
       "3                                     Toy Story      28.005   1995-11-22   \n",
       "4                                     Inception      27.920   2010-07-16   \n",
       "\n",
       "                                          title  vote_average  vote_count  \n",
       "0  Harry Potter and the Deathly Hallows: Part 1           7.7       10788  \n",
       "1                      How to Train Your Dragon           7.7        7610  \n",
       "2                                    Iron Man 2           6.8       12368  \n",
       "3                                     Toy Story           7.9       10174  \n",
       "4                                     Inception           8.3       22186  "
      ]
     },
     "execution_count": 1183,
     "metadata": {},
     "output_type": "execute_result"
    }
   ],
   "source": [
    "#We shall attempt to look for additional data to fill null values in num_votes and vote_average from an external dataset\n",
    "\n",
    "#loading the tmdb_movies_df dataset\n",
    "\n",
    "tmdb_movies_df = pd.read_csv('zippedData/tmdb.movies.csv', index_col=0)\n",
    "tmdb_movies_df.head()"
   ]
  },
  {
   "cell_type": "code",
   "execution_count": 1184,
   "metadata": {},
   "outputs": [
    {
     "data": {
      "text/plain": [
       "genre_ids             object\n",
       "id                     int64\n",
       "original_language     object\n",
       "original_title        object\n",
       "popularity           float64\n",
       "release_date          object\n",
       "title                 object\n",
       "vote_average         float64\n",
       "vote_count             int64\n",
       "dtype: object"
      ]
     },
     "execution_count": 1184,
     "metadata": {},
     "output_type": "execute_result"
    }
   ],
   "source": [
    "tmdb_movies_df.dtypes"
   ]
  },
  {
   "cell_type": "code",
   "execution_count": 1185,
   "metadata": {},
   "outputs": [
    {
     "data": {
      "text/html": [
       "<div>\n",
       "<style scoped>\n",
       "    .dataframe tbody tr th:only-of-type {\n",
       "        vertical-align: middle;\n",
       "    }\n",
       "\n",
       "    .dataframe tbody tr th {\n",
       "        vertical-align: top;\n",
       "    }\n",
       "\n",
       "    .dataframe thead th {\n",
       "        text-align: right;\n",
       "    }\n",
       "</style>\n",
       "<table border=\"1\" class=\"dataframe\">\n",
       "  <thead>\n",
       "    <tr style=\"text-align: right;\">\n",
       "      <th></th>\n",
       "      <th>original_title</th>\n",
       "      <th>vote_average</th>\n",
       "      <th>vote_count</th>\n",
       "      <th>release_date</th>\n",
       "    </tr>\n",
       "  </thead>\n",
       "  <tbody>\n",
       "    <tr>\n",
       "      <th>0</th>\n",
       "      <td>Harry Potter and the Deathly Hallows: Part 1</td>\n",
       "      <td>7.7</td>\n",
       "      <td>10788</td>\n",
       "      <td>2010-11-19</td>\n",
       "    </tr>\n",
       "    <tr>\n",
       "      <th>1</th>\n",
       "      <td>How to Train Your Dragon</td>\n",
       "      <td>7.7</td>\n",
       "      <td>7610</td>\n",
       "      <td>2010-03-26</td>\n",
       "    </tr>\n",
       "    <tr>\n",
       "      <th>2</th>\n",
       "      <td>Iron Man 2</td>\n",
       "      <td>6.8</td>\n",
       "      <td>12368</td>\n",
       "      <td>2010-05-07</td>\n",
       "    </tr>\n",
       "    <tr>\n",
       "      <th>3</th>\n",
       "      <td>Toy Story</td>\n",
       "      <td>7.9</td>\n",
       "      <td>10174</td>\n",
       "      <td>1995-11-22</td>\n",
       "    </tr>\n",
       "    <tr>\n",
       "      <th>4</th>\n",
       "      <td>Inception</td>\n",
       "      <td>8.3</td>\n",
       "      <td>22186</td>\n",
       "      <td>2010-07-16</td>\n",
       "    </tr>\n",
       "  </tbody>\n",
       "</table>\n",
       "</div>"
      ],
      "text/plain": [
       "                                 original_title  vote_average  vote_count  \\\n",
       "0  Harry Potter and the Deathly Hallows: Part 1           7.7       10788   \n",
       "1                      How to Train Your Dragon           7.7        7610   \n",
       "2                                    Iron Man 2           6.8       12368   \n",
       "3                                     Toy Story           7.9       10174   \n",
       "4                                     Inception           8.3       22186   \n",
       "\n",
       "  release_date  \n",
       "0   2010-11-19  \n",
       "1   2010-03-26  \n",
       "2   2010-05-07  \n",
       "3   1995-11-22  \n",
       "4   2010-07-16  "
      ]
     },
     "execution_count": 1185,
     "metadata": {},
     "output_type": "execute_result"
    }
   ],
   "source": [
    "#Extracting only the columns that we need and reassigning them to our tmdb_movies variable\n",
    "tmdb_movies_df = tmdb_movies_df.loc[:, ['original_title', 'vote_average', 'vote_count', 'release_date']]\n",
    "tmdb_movies_df.head()\n"
   ]
  },
  {
   "cell_type": "code",
   "execution_count": 1186,
   "metadata": {},
   "outputs": [
    {
     "data": {
      "text/html": [
       "<div>\n",
       "<style scoped>\n",
       "    .dataframe tbody tr th:only-of-type {\n",
       "        vertical-align: middle;\n",
       "    }\n",
       "\n",
       "    .dataframe tbody tr th {\n",
       "        vertical-align: top;\n",
       "    }\n",
       "\n",
       "    .dataframe thead th {\n",
       "        text-align: right;\n",
       "    }\n",
       "</style>\n",
       "<table border=\"1\" class=\"dataframe\">\n",
       "  <thead>\n",
       "    <tr style=\"text-align: right;\">\n",
       "      <th></th>\n",
       "      <th>original_title</th>\n",
       "      <th>vote_average</th>\n",
       "      <th>vote_count</th>\n",
       "      <th>release_year</th>\n",
       "    </tr>\n",
       "  </thead>\n",
       "  <tbody>\n",
       "    <tr>\n",
       "      <th>0</th>\n",
       "      <td>Harry Potter and the Deathly Hallows: Part 1</td>\n",
       "      <td>7.7</td>\n",
       "      <td>10788</td>\n",
       "      <td>2010</td>\n",
       "    </tr>\n",
       "    <tr>\n",
       "      <th>1</th>\n",
       "      <td>How to Train Your Dragon</td>\n",
       "      <td>7.7</td>\n",
       "      <td>7610</td>\n",
       "      <td>2010</td>\n",
       "    </tr>\n",
       "  </tbody>\n",
       "</table>\n",
       "</div>"
      ],
      "text/plain": [
       "                                 original_title  vote_average  vote_count  \\\n",
       "0  Harry Potter and the Deathly Hallows: Part 1           7.7       10788   \n",
       "1                      How to Train Your Dragon           7.7        7610   \n",
       "\n",
       "  release_year  \n",
       "0         2010  \n",
       "1         2010  "
      ]
     },
     "execution_count": 1186,
     "metadata": {},
     "output_type": "execute_result"
    }
   ],
   "source": [
    "#creating a new column for release_year to replace release_date\n",
    "tmdb_movies_df['release_year'] = tmdb_movies_df.release_date.apply(lambda x: x.split('-')[0])\n",
    "#Dropping the release_date column\n",
    "tmdb_movies_df.drop('release_date', axis=1, inplace=True)\n",
    "tmdb_movies_df.head(2)\n"
   ]
  },
  {
   "cell_type": "code",
   "execution_count": 1187,
   "metadata": {},
   "outputs": [
    {
     "data": {
      "text/html": [
       "<div>\n",
       "<style scoped>\n",
       "    .dataframe tbody tr th:only-of-type {\n",
       "        vertical-align: middle;\n",
       "    }\n",
       "\n",
       "    .dataframe tbody tr th {\n",
       "        vertical-align: top;\n",
       "    }\n",
       "\n",
       "    .dataframe thead th {\n",
       "        text-align: right;\n",
       "    }\n",
       "</style>\n",
       "<table border=\"1\" class=\"dataframe\">\n",
       "  <thead>\n",
       "    <tr style=\"text-align: right;\">\n",
       "      <th></th>\n",
       "      <th>title</th>\n",
       "      <th>studio</th>\n",
       "      <th>domestic_gross</th>\n",
       "      <th>foreign_gross</th>\n",
       "      <th>year</th>\n",
       "      <th>start_year</th>\n",
       "      <th>runtime_minutes</th>\n",
       "      <th>genres</th>\n",
       "      <th>averagerating</th>\n",
       "      <th>numvotes</th>\n",
       "      <th>original_title</th>\n",
       "      <th>vote_average</th>\n",
       "      <th>vote_count</th>\n",
       "      <th>release_year</th>\n",
       "    </tr>\n",
       "  </thead>\n",
       "  <tbody>\n",
       "    <tr>\n",
       "      <th>0</th>\n",
       "      <td>Toy Story 3</td>\n",
       "      <td>BV</td>\n",
       "      <td>415000000.0</td>\n",
       "      <td>652000000.0</td>\n",
       "      <td>2010</td>\n",
       "      <td>2010.0</td>\n",
       "      <td>103.0</td>\n",
       "      <td>Adventure,Animation,Comedy</td>\n",
       "      <td>8.3</td>\n",
       "      <td>682218.0</td>\n",
       "      <td>Toy Story 3</td>\n",
       "      <td>7.7</td>\n",
       "      <td>8340</td>\n",
       "      <td>2010</td>\n",
       "    </tr>\n",
       "    <tr>\n",
       "      <th>1</th>\n",
       "      <td>Inception</td>\n",
       "      <td>WB</td>\n",
       "      <td>292600000.0</td>\n",
       "      <td>535700000.0</td>\n",
       "      <td>2010</td>\n",
       "      <td>2010.0</td>\n",
       "      <td>148.0</td>\n",
       "      <td>Action,Adventure,Sci-Fi</td>\n",
       "      <td>8.8</td>\n",
       "      <td>1841066.0</td>\n",
       "      <td>Inception</td>\n",
       "      <td>8.3</td>\n",
       "      <td>22186</td>\n",
       "      <td>2010</td>\n",
       "    </tr>\n",
       "    <tr>\n",
       "      <th>2</th>\n",
       "      <td>Shrek Forever After</td>\n",
       "      <td>P/DW</td>\n",
       "      <td>238700000.0</td>\n",
       "      <td>513900000.0</td>\n",
       "      <td>2010</td>\n",
       "      <td>2010.0</td>\n",
       "      <td>93.0</td>\n",
       "      <td>Adventure,Animation,Comedy</td>\n",
       "      <td>6.3</td>\n",
       "      <td>167532.0</td>\n",
       "      <td>Shrek Forever After</td>\n",
       "      <td>6.1</td>\n",
       "      <td>3843</td>\n",
       "      <td>2010</td>\n",
       "    </tr>\n",
       "    <tr>\n",
       "      <th>3</th>\n",
       "      <td>The Twilight Saga: Eclipse</td>\n",
       "      <td>Sum.</td>\n",
       "      <td>300500000.0</td>\n",
       "      <td>398000000.0</td>\n",
       "      <td>2010</td>\n",
       "      <td>2010.0</td>\n",
       "      <td>124.0</td>\n",
       "      <td>Adventure,Drama,Fantasy</td>\n",
       "      <td>5.0</td>\n",
       "      <td>211733.0</td>\n",
       "      <td>The Twilight Saga: Eclipse</td>\n",
       "      <td>6.0</td>\n",
       "      <td>4909</td>\n",
       "      <td>2010</td>\n",
       "    </tr>\n",
       "    <tr>\n",
       "      <th>4</th>\n",
       "      <td>Iron Man 2</td>\n",
       "      <td>Par.</td>\n",
       "      <td>312400000.0</td>\n",
       "      <td>311500000.0</td>\n",
       "      <td>2010</td>\n",
       "      <td>2010.0</td>\n",
       "      <td>124.0</td>\n",
       "      <td>Action,Adventure,Sci-Fi</td>\n",
       "      <td>7.0</td>\n",
       "      <td>657690.0</td>\n",
       "      <td>Iron Man 2</td>\n",
       "      <td>6.8</td>\n",
       "      <td>12368</td>\n",
       "      <td>2010</td>\n",
       "    </tr>\n",
       "  </tbody>\n",
       "</table>\n",
       "</div>"
      ],
      "text/plain": [
       "                        title studio  domestic_gross  foreign_gross  year  \\\n",
       "0                 Toy Story 3     BV     415000000.0    652000000.0  2010   \n",
       "1                   Inception     WB     292600000.0    535700000.0  2010   \n",
       "2         Shrek Forever After   P/DW     238700000.0    513900000.0  2010   \n",
       "3  The Twilight Saga: Eclipse   Sum.     300500000.0    398000000.0  2010   \n",
       "4                  Iron Man 2   Par.     312400000.0    311500000.0  2010   \n",
       "\n",
       "   start_year  runtime_minutes                      genres  averagerating  \\\n",
       "0      2010.0            103.0  Adventure,Animation,Comedy            8.3   \n",
       "1      2010.0            148.0     Action,Adventure,Sci-Fi            8.8   \n",
       "2      2010.0             93.0  Adventure,Animation,Comedy            6.3   \n",
       "3      2010.0            124.0     Adventure,Drama,Fantasy            5.0   \n",
       "4      2010.0            124.0     Action,Adventure,Sci-Fi            7.0   \n",
       "\n",
       "    numvotes              original_title  vote_average  vote_count  \\\n",
       "0   682218.0                 Toy Story 3           7.7        8340   \n",
       "1  1841066.0                   Inception           8.3       22186   \n",
       "2   167532.0         Shrek Forever After           6.1        3843   \n",
       "3   211733.0  The Twilight Saga: Eclipse           6.0        4909   \n",
       "4   657690.0                  Iron Man 2           6.8       12368   \n",
       "\n",
       "  release_year  \n",
       "0         2010  \n",
       "1         2010  \n",
       "2         2010  \n",
       "3         2010  \n",
       "4         2010  "
      ]
     },
     "execution_count": 1187,
     "metadata": {},
     "output_type": "execute_result"
    }
   ],
   "source": [
    "#Executing an inner join to preserve only the movies appearing in both Tables\n",
    "\n",
    "combined_data = combined_data.merge(tmdb_movies_df, left_on= 'title', right_on= 'original_title', how=\"inner\")\n",
    "combined_data.head(5)"
   ]
  },
  {
   "cell_type": "code",
   "execution_count": 1188,
   "metadata": {},
   "outputs": [
    {
     "data": {
      "text/html": [
       "<div>\n",
       "<style scoped>\n",
       "    .dataframe tbody tr th:only-of-type {\n",
       "        vertical-align: middle;\n",
       "    }\n",
       "\n",
       "    .dataframe tbody tr th {\n",
       "        vertical-align: top;\n",
       "    }\n",
       "\n",
       "    .dataframe thead th {\n",
       "        text-align: right;\n",
       "    }\n",
       "</style>\n",
       "<table border=\"1\" class=\"dataframe\">\n",
       "  <thead>\n",
       "    <tr style=\"text-align: right;\">\n",
       "      <th></th>\n",
       "      <th>index</th>\n",
       "      <th>Missing Values</th>\n",
       "      <th>Percentage</th>\n",
       "    </tr>\n",
       "  </thead>\n",
       "  <tbody>\n",
       "    <tr>\n",
       "      <th>0</th>\n",
       "      <td>numvotes</td>\n",
       "      <td>443</td>\n",
       "      <td>0.141669</td>\n",
       "    </tr>\n",
       "    <tr>\n",
       "      <th>1</th>\n",
       "      <td>averagerating</td>\n",
       "      <td>443</td>\n",
       "      <td>0.141669</td>\n",
       "    </tr>\n",
       "    <tr>\n",
       "      <th>2</th>\n",
       "      <td>genres</td>\n",
       "      <td>84</td>\n",
       "      <td>0.026863</td>\n",
       "    </tr>\n",
       "    <tr>\n",
       "      <th>3</th>\n",
       "      <td>runtime_minutes</td>\n",
       "      <td>84</td>\n",
       "      <td>0.026863</td>\n",
       "    </tr>\n",
       "    <tr>\n",
       "      <th>4</th>\n",
       "      <td>start_year</td>\n",
       "      <td>84</td>\n",
       "      <td>0.026863</td>\n",
       "    </tr>\n",
       "  </tbody>\n",
       "</table>\n",
       "</div>"
      ],
      "text/plain": [
       "             index  Missing Values  Percentage\n",
       "0         numvotes             443    0.141669\n",
       "1    averagerating             443    0.141669\n",
       "2           genres              84    0.026863\n",
       "3  runtime_minutes              84    0.026863\n",
       "4       start_year              84    0.026863"
      ]
     },
     "execution_count": 1188,
     "metadata": {},
     "output_type": "execute_result"
    }
   ],
   "source": [
    "missing_values(combined_data)"
   ]
  },
  {
   "cell_type": "code",
   "execution_count": 1189,
   "metadata": {},
   "outputs": [
    {
     "data": {
      "text/html": [
       "<div>\n",
       "<style scoped>\n",
       "    .dataframe tbody tr th:only-of-type {\n",
       "        vertical-align: middle;\n",
       "    }\n",
       "\n",
       "    .dataframe tbody tr th {\n",
       "        vertical-align: top;\n",
       "    }\n",
       "\n",
       "    .dataframe thead th {\n",
       "        text-align: right;\n",
       "    }\n",
       "</style>\n",
       "<table border=\"1\" class=\"dataframe\">\n",
       "  <thead>\n",
       "    <tr style=\"text-align: right;\">\n",
       "      <th></th>\n",
       "      <th>title</th>\n",
       "      <th>studio</th>\n",
       "      <th>domestic_gross</th>\n",
       "      <th>foreign_gross</th>\n",
       "      <th>year</th>\n",
       "      <th>runtime_minutes</th>\n",
       "      <th>genres</th>\n",
       "      <th>averagerating</th>\n",
       "      <th>numvotes</th>\n",
       "      <th>original_title</th>\n",
       "      <th>release_year</th>\n",
       "    </tr>\n",
       "  </thead>\n",
       "  <tbody>\n",
       "    <tr>\n",
       "      <th>0</th>\n",
       "      <td>Toy Story 3</td>\n",
       "      <td>BV</td>\n",
       "      <td>415000000.0</td>\n",
       "      <td>652000000.0</td>\n",
       "      <td>2010</td>\n",
       "      <td>103.0</td>\n",
       "      <td>Adventure,Animation,Comedy</td>\n",
       "      <td>8.3</td>\n",
       "      <td>682218.0</td>\n",
       "      <td>Toy Story 3</td>\n",
       "      <td>2010</td>\n",
       "    </tr>\n",
       "    <tr>\n",
       "      <th>1</th>\n",
       "      <td>Inception</td>\n",
       "      <td>WB</td>\n",
       "      <td>292600000.0</td>\n",
       "      <td>535700000.0</td>\n",
       "      <td>2010</td>\n",
       "      <td>148.0</td>\n",
       "      <td>Action,Adventure,Sci-Fi</td>\n",
       "      <td>8.8</td>\n",
       "      <td>1841066.0</td>\n",
       "      <td>Inception</td>\n",
       "      <td>2010</td>\n",
       "    </tr>\n",
       "  </tbody>\n",
       "</table>\n",
       "</div>"
      ],
      "text/plain": [
       "         title studio  domestic_gross  foreign_gross  year  runtime_minutes  \\\n",
       "0  Toy Story 3     BV     415000000.0    652000000.0  2010            103.0   \n",
       "1    Inception     WB     292600000.0    535700000.0  2010            148.0   \n",
       "\n",
       "                       genres  averagerating   numvotes original_title  \\\n",
       "0  Adventure,Animation,Comedy            8.3   682218.0    Toy Story 3   \n",
       "1     Action,Adventure,Sci-Fi            8.8  1841066.0      Inception   \n",
       "\n",
       "  release_year  \n",
       "0         2010  \n",
       "1         2010  "
      ]
     },
     "execution_count": 1189,
     "metadata": {},
     "output_type": "execute_result"
    }
   ],
   "source": [
    "#right off the bat, we can polish our combined dataset by removing redundant columns\n",
    "combined_data.drop('start_year', inplace=True, axis=1)\n",
    "\n",
    "#filling in missing values in the averagerating column with values from vote_average col\n",
    "combined_data.averagerating.fillna(combined_data.vote_average, inplace=True)\n",
    "\n",
    "#Finally dropping the vote_average col\n",
    "combined_data.drop('vote_average', axis=1, inplace=True)\n",
    "\n",
    "#Since there is a huge discrepancy between num_votes and vote_counts columns for the same movie titles, \n",
    "#it may not be an appropriate strategy to impute values from the latter.\n",
    "#The vote_counts column will be dropped and null values within num_votes will \n",
    "# be filled using another appropriate method\n",
    "\n",
    "combined_data.drop('vote_count', inplace=True, axis=1)\n",
    "\n",
    "#confirming our changes\n",
    "combined_data.head(2)\n"
   ]
  },
  {
   "cell_type": "code",
   "execution_count": 1190,
   "metadata": {},
   "outputs": [
    {
     "data": {
      "text/html": [
       "<div>\n",
       "<style scoped>\n",
       "    .dataframe tbody tr th:only-of-type {\n",
       "        vertical-align: middle;\n",
       "    }\n",
       "\n",
       "    .dataframe tbody tr th {\n",
       "        vertical-align: top;\n",
       "    }\n",
       "\n",
       "    .dataframe thead th {\n",
       "        text-align: right;\n",
       "    }\n",
       "</style>\n",
       "<table border=\"1\" class=\"dataframe\">\n",
       "  <thead>\n",
       "    <tr style=\"text-align: right;\">\n",
       "      <th></th>\n",
       "      <th>index</th>\n",
       "      <th>Missing Values</th>\n",
       "      <th>Percentage</th>\n",
       "    </tr>\n",
       "  </thead>\n",
       "  <tbody>\n",
       "    <tr>\n",
       "      <th>0</th>\n",
       "      <td>numvotes</td>\n",
       "      <td>443</td>\n",
       "      <td>0.141669</td>\n",
       "    </tr>\n",
       "    <tr>\n",
       "      <th>1</th>\n",
       "      <td>genres</td>\n",
       "      <td>84</td>\n",
       "      <td>0.026863</td>\n",
       "    </tr>\n",
       "    <tr>\n",
       "      <th>2</th>\n",
       "      <td>runtime_minutes</td>\n",
       "      <td>84</td>\n",
       "      <td>0.026863</td>\n",
       "    </tr>\n",
       "  </tbody>\n",
       "</table>\n",
       "</div>"
      ],
      "text/plain": [
       "             index  Missing Values  Percentage\n",
       "0         numvotes             443    0.141669\n",
       "1           genres              84    0.026863\n",
       "2  runtime_minutes              84    0.026863"
      ]
     },
     "execution_count": 1190,
     "metadata": {},
     "output_type": "execute_result"
    }
   ],
   "source": [
    "missing_values(combined_data)"
   ]
  },
  {
   "cell_type": "code",
   "execution_count": 1191,
   "metadata": {},
   "outputs": [
    {
     "data": {
      "image/png": "[encoded data removed]",
      "text/plain": [
       "<Figure size 864x432 with 1 Axes>"
      ]
     },
     "metadata": {
      "needs_background": "light"
     },
     "output_type": "display_data"
    }
   ],
   "source": [
    "#visualizing the distribution of runtime_minutes in our combined dataframe\n",
    "col_data = combined_data.runtime_minutes\n",
    "plt.figure(figsize=(12,6))\n",
    "sns.boxplot(x=col_data)\n",
    "plt.title('Boxplot of runtime_minutes');"
   ]
  },
  {
   "cell_type": "code",
   "execution_count": 1192,
   "metadata": {},
   "outputs": [
    {
     "data": {
      "text/html": [
       "<div>\n",
       "<style scoped>\n",
       "    .dataframe tbody tr th:only-of-type {\n",
       "        vertical-align: middle;\n",
       "    }\n",
       "\n",
       "    .dataframe tbody tr th {\n",
       "        vertical-align: top;\n",
       "    }\n",
       "\n",
       "    .dataframe thead th {\n",
       "        text-align: right;\n",
       "    }\n",
       "</style>\n",
       "<table border=\"1\" class=\"dataframe\">\n",
       "  <thead>\n",
       "    <tr style=\"text-align: right;\">\n",
       "      <th></th>\n",
       "      <th>index</th>\n",
       "      <th>Missing Values</th>\n",
       "      <th>Percentage</th>\n",
       "    </tr>\n",
       "  </thead>\n",
       "  <tbody>\n",
       "    <tr>\n",
       "      <th>0</th>\n",
       "      <td>numvotes</td>\n",
       "      <td>443</td>\n",
       "      <td>0.141669</td>\n",
       "    </tr>\n",
       "    <tr>\n",
       "      <th>1</th>\n",
       "      <td>genres</td>\n",
       "      <td>84</td>\n",
       "      <td>0.026863</td>\n",
       "    </tr>\n",
       "  </tbody>\n",
       "</table>\n",
       "</div>"
      ],
      "text/plain": [
       "      index  Missing Values  Percentage\n",
       "0  numvotes             443    0.141669\n",
       "1    genres              84    0.026863"
      ]
     },
     "execution_count": 1192,
     "metadata": {},
     "output_type": "execute_result"
    }
   ],
   "source": [
    "#The data appears to be near symmetric, with some outliers on both ends, we shall use mean imputation for this column\n",
    "combined_data.runtime_minutes.fillna(combined_data.runtime_minutes.mean(), inplace=True)\n",
    "#confirming if the operation was successful\n",
    "missing_values(combined_data)"
   ]
  },
  {
   "cell_type": "code",
   "execution_count": 1193,
   "metadata": {},
   "outputs": [
    {
     "name": "stdout",
     "output_type": "stream",
     "text": [
      "mean    7.731767e+04\n",
      "std     1.362478e+05\n",
      "min     5.000000e+00\n",
      "max     1.841066e+06\n",
      "Name: numvotes, dtype: float64\n"
     ]
    },
    {
     "data": {
      "image/png": "[encoded data removed]",
      "text/plain": [
       "<Figure size 720x360 with 1 Axes>"
      ]
     },
     "metadata": {
      "needs_background": "light"
     },
     "output_type": "display_data"
    }
   ],
   "source": [
    "#visualizing the distribution of numvotes\n",
    "print(combined_data.numvotes.agg(['mean', 'std', 'min', 'max']))\n",
    "combined_data.numvotes.hist(color='0.55', figsize=(10, 5))\n",
    "plt.title(\"Histogram of numvotes\")\n",
    "plt.xlabel('num_votes in millions')\n",
    "plt.ylabel('frequency');"
   ]
  },
  {
   "cell_type": "code",
   "execution_count": 1194,
   "metadata": {},
   "outputs": [],
   "source": [
    "#The data in numvotes column is heavily skewed, so It would be \n",
    "# more appropriate to use median imputation\n",
    "combined_data.numvotes.fillna(combined_data.numvotes.median(), inplace=True)"
   ]
  },
  {
   "cell_type": "code",
   "execution_count": 1195,
   "metadata": {},
   "outputs": [
    {
     "data": {
      "text/html": [
       "<div>\n",
       "<style scoped>\n",
       "    .dataframe tbody tr th:only-of-type {\n",
       "        vertical-align: middle;\n",
       "    }\n",
       "\n",
       "    .dataframe tbody tr th {\n",
       "        vertical-align: top;\n",
       "    }\n",
       "\n",
       "    .dataframe thead th {\n",
       "        text-align: right;\n",
       "    }\n",
       "</style>\n",
       "<table border=\"1\" class=\"dataframe\">\n",
       "  <thead>\n",
       "    <tr style=\"text-align: right;\">\n",
       "      <th></th>\n",
       "      <th>index</th>\n",
       "      <th>Missing Values</th>\n",
       "      <th>Percentage</th>\n",
       "    </tr>\n",
       "  </thead>\n",
       "  <tbody>\n",
       "    <tr>\n",
       "      <th>0</th>\n",
       "      <td>genres</td>\n",
       "      <td>84</td>\n",
       "      <td>0.026863</td>\n",
       "    </tr>\n",
       "  </tbody>\n",
       "</table>\n",
       "</div>"
      ],
      "text/plain": [
       "    index  Missing Values  Percentage\n",
       "0  genres              84    0.026863"
      ]
     },
     "execution_count": 1195,
     "metadata": {},
     "output_type": "execute_result"
    }
   ],
   "source": [
    "missing_values(combined_data)"
   ]
  },
  {
   "cell_type": "code",
   "execution_count": 1196,
   "metadata": {},
   "outputs": [
    {
     "name": "stdout",
     "output_type": "stream",
     "text": [
      "The most common genre in our data is: Drama    323\n",
      "Name: genres, dtype: int64\n"
     ]
    }
   ],
   "source": [
    "#it's reasonable to assume that missing genre values may follow a common pattern, \n",
    "#Thus we can impute the missing values with the mode (most frequent genre) from the existing data. \n",
    "#This approach is simple and can be useful if there is a dominant genre in our dataset.\n",
    "\n",
    "#Calling the value_counts method to find the mode genre\n",
    "top_genre = combined_data.genres.value_counts().head(1)\n",
    "print(f'The most common genre in our data is: {top_genre}');\n"
   ]
  },
  {
   "cell_type": "code",
   "execution_count": 1197,
   "metadata": {},
   "outputs": [
    {
     "data": {
      "text/html": [
       "<div>\n",
       "<style scoped>\n",
       "    .dataframe tbody tr th:only-of-type {\n",
       "        vertical-align: middle;\n",
       "    }\n",
       "\n",
       "    .dataframe tbody tr th {\n",
       "        vertical-align: top;\n",
       "    }\n",
       "\n",
       "    .dataframe thead th {\n",
       "        text-align: right;\n",
       "    }\n",
       "</style>\n",
       "<table border=\"1\" class=\"dataframe\">\n",
       "  <thead>\n",
       "    <tr style=\"text-align: right;\">\n",
       "      <th></th>\n",
       "      <th>index</th>\n",
       "      <th>Missing Values</th>\n",
       "      <th>Percentage</th>\n",
       "    </tr>\n",
       "  </thead>\n",
       "  <tbody>\n",
       "  </tbody>\n",
       "</table>\n",
       "</div>"
      ],
      "text/plain": [
       "Empty DataFrame\n",
       "Columns: [index, Missing Values, Percentage]\n",
       "Index: []"
      ]
     },
     "execution_count": 1197,
     "metadata": {},
     "output_type": "execute_result"
    }
   ],
   "source": [
    "#Performing Mode imputation\n",
    "combined_data.genres.fillna(combined_data.genres.mode().iloc[0], inplace=True)\n",
    "\n",
    "#confirming that we have no missing values in our dataset\n",
    "#Calling our handy function\n",
    "missing_values(combined_data)"
   ]
  },
  {
   "cell_type": "code",
   "execution_count": 1198,
   "metadata": {},
   "outputs": [
    {
     "data": {
      "text/plain": [
       "title               object\n",
       "studio              object\n",
       "domestic_gross     float64\n",
       "foreign_gross      float64\n",
       "year                 int64\n",
       "runtime_minutes    float64\n",
       "genres              object\n",
       "averagerating      float64\n",
       "numvotes           float64\n",
       "original_title      object\n",
       "release_year        object\n",
       "dtype: object"
      ]
     },
     "execution_count": 1198,
     "metadata": {},
     "output_type": "execute_result"
    }
   ],
   "source": [
    "combined_data.dtypes"
   ]
  },
  {
   "cell_type": "code",
   "execution_count": 1199,
   "metadata": {},
   "outputs": [
    {
     "data": {
      "text/html": [
       "<div>\n",
       "<style scoped>\n",
       "    .dataframe tbody tr th:only-of-type {\n",
       "        vertical-align: middle;\n",
       "    }\n",
       "\n",
       "    .dataframe tbody tr th {\n",
       "        vertical-align: top;\n",
       "    }\n",
       "\n",
       "    .dataframe thead th {\n",
       "        text-align: right;\n",
       "    }\n",
       "</style>\n",
       "<table border=\"1\" class=\"dataframe\">\n",
       "  <thead>\n",
       "    <tr style=\"text-align: right;\">\n",
       "      <th></th>\n",
       "      <th>title</th>\n",
       "      <th>studio</th>\n",
       "      <th>domestic_gross</th>\n",
       "      <th>foreign_gross</th>\n",
       "      <th>year</th>\n",
       "      <th>runtime_minutes</th>\n",
       "      <th>genres</th>\n",
       "      <th>averagerating</th>\n",
       "      <th>numvotes</th>\n",
       "      <th>original_title</th>\n",
       "      <th>release_year</th>\n",
       "      <th>total_gross</th>\n",
       "    </tr>\n",
       "  </thead>\n",
       "  <tbody>\n",
       "    <tr>\n",
       "      <th>0</th>\n",
       "      <td>Toy Story 3</td>\n",
       "      <td>BV</td>\n",
       "      <td>415000000.0</td>\n",
       "      <td>652000000.0</td>\n",
       "      <td>2010</td>\n",
       "      <td>103.0</td>\n",
       "      <td>Adventure,Animation,Comedy</td>\n",
       "      <td>8.3</td>\n",
       "      <td>682218.0</td>\n",
       "      <td>Toy Story 3</td>\n",
       "      <td>2010</td>\n",
       "      <td>1.067000e+09</td>\n",
       "    </tr>\n",
       "    <tr>\n",
       "      <th>1</th>\n",
       "      <td>Inception</td>\n",
       "      <td>WB</td>\n",
       "      <td>292600000.0</td>\n",
       "      <td>535700000.0</td>\n",
       "      <td>2010</td>\n",
       "      <td>148.0</td>\n",
       "      <td>Action,Adventure,Sci-Fi</td>\n",
       "      <td>8.8</td>\n",
       "      <td>1841066.0</td>\n",
       "      <td>Inception</td>\n",
       "      <td>2010</td>\n",
       "      <td>8.283000e+08</td>\n",
       "    </tr>\n",
       "  </tbody>\n",
       "</table>\n",
       "</div>"
      ],
      "text/plain": [
       "         title studio  domestic_gross  foreign_gross  year  runtime_minutes  \\\n",
       "0  Toy Story 3     BV     415000000.0    652000000.0  2010            103.0   \n",
       "1    Inception     WB     292600000.0    535700000.0  2010            148.0   \n",
       "\n",
       "                       genres  averagerating   numvotes original_title  \\\n",
       "0  Adventure,Animation,Comedy            8.3   682218.0    Toy Story 3   \n",
       "1     Action,Adventure,Sci-Fi            8.8  1841066.0      Inception   \n",
       "\n",
       "  release_year   total_gross  \n",
       "0         2010  1.067000e+09  \n",
       "1         2010  8.283000e+08  "
      ]
     },
     "execution_count": 1199,
     "metadata": {},
     "output_type": "execute_result"
    }
   ],
   "source": [
    "#A \"Total Gross\" column will allow us to directly analyze the total revenue generated by each movie. \n",
    "# This is important for understanding the overall financial success of the movies in our combined df\n",
    "\n",
    "combined_data['total_gross'] = combined_data.domestic_gross + combined_data.foreign_gross\n",
    "\n",
    "#Confirming the new column was added\n",
    "\n",
    "combined_data.head(2)"
   ]
  },
  {
   "cell_type": "code",
   "execution_count": 1200,
   "metadata": {},
   "outputs": [
    {
     "data": {
      "text/html": [
       "<div>\n",
       "<style scoped>\n",
       "    .dataframe tbody tr th:only-of-type {\n",
       "        vertical-align: middle;\n",
       "    }\n",
       "\n",
       "    .dataframe tbody tr th {\n",
       "        vertical-align: top;\n",
       "    }\n",
       "\n",
       "    .dataframe thead th {\n",
       "        text-align: right;\n",
       "    }\n",
       "</style>\n",
       "<table border=\"1\" class=\"dataframe\">\n",
       "  <thead>\n",
       "    <tr style=\"text-align: right;\">\n",
       "      <th></th>\n",
       "      <th>title</th>\n",
       "      <th>studio</th>\n",
       "      <th>domestic_gross</th>\n",
       "      <th>foreign_gross</th>\n",
       "      <th>year</th>\n",
       "      <th>runtime_minutes</th>\n",
       "      <th>genres</th>\n",
       "      <th>averagerating</th>\n",
       "      <th>numvotes</th>\n",
       "      <th>original_title</th>\n",
       "      <th>release_year</th>\n",
       "      <th>total_gross</th>\n",
       "    </tr>\n",
       "  </thead>\n",
       "  <tbody>\n",
       "    <tr>\n",
       "      <th>0</th>\n",
       "      <td>Toy Story 3</td>\n",
       "      <td>BV</td>\n",
       "      <td>415000000.0</td>\n",
       "      <td>652000000.0</td>\n",
       "      <td>2010</td>\n",
       "      <td>103.0</td>\n",
       "      <td>[Adventure, Animation, Comedy]</td>\n",
       "      <td>8.3</td>\n",
       "      <td>682218.0</td>\n",
       "      <td>Toy Story 3</td>\n",
       "      <td>2010</td>\n",
       "      <td>1.067000e+09</td>\n",
       "    </tr>\n",
       "    <tr>\n",
       "      <th>1</th>\n",
       "      <td>Inception</td>\n",
       "      <td>WB</td>\n",
       "      <td>292600000.0</td>\n",
       "      <td>535700000.0</td>\n",
       "      <td>2010</td>\n",
       "      <td>148.0</td>\n",
       "      <td>[Action, Adventure, Sci-Fi]</td>\n",
       "      <td>8.8</td>\n",
       "      <td>1841066.0</td>\n",
       "      <td>Inception</td>\n",
       "      <td>2010</td>\n",
       "      <td>8.283000e+08</td>\n",
       "    </tr>\n",
       "    <tr>\n",
       "      <th>2</th>\n",
       "      <td>Shrek Forever After</td>\n",
       "      <td>P/DW</td>\n",
       "      <td>238700000.0</td>\n",
       "      <td>513900000.0</td>\n",
       "      <td>2010</td>\n",
       "      <td>93.0</td>\n",
       "      <td>[Adventure, Animation, Comedy]</td>\n",
       "      <td>6.3</td>\n",
       "      <td>167532.0</td>\n",
       "      <td>Shrek Forever After</td>\n",
       "      <td>2010</td>\n",
       "      <td>7.526000e+08</td>\n",
       "    </tr>\n",
       "    <tr>\n",
       "      <th>3</th>\n",
       "      <td>The Twilight Saga: Eclipse</td>\n",
       "      <td>Sum.</td>\n",
       "      <td>300500000.0</td>\n",
       "      <td>398000000.0</td>\n",
       "      <td>2010</td>\n",
       "      <td>124.0</td>\n",
       "      <td>[Adventure, Drama, Fantasy]</td>\n",
       "      <td>5.0</td>\n",
       "      <td>211733.0</td>\n",
       "      <td>The Twilight Saga: Eclipse</td>\n",
       "      <td>2010</td>\n",
       "      <td>6.985000e+08</td>\n",
       "    </tr>\n",
       "    <tr>\n",
       "      <th>4</th>\n",
       "      <td>Iron Man 2</td>\n",
       "      <td>Par.</td>\n",
       "      <td>312400000.0</td>\n",
       "      <td>311500000.0</td>\n",
       "      <td>2010</td>\n",
       "      <td>124.0</td>\n",
       "      <td>[Action, Adventure, Sci-Fi]</td>\n",
       "      <td>7.0</td>\n",
       "      <td>657690.0</td>\n",
       "      <td>Iron Man 2</td>\n",
       "      <td>2010</td>\n",
       "      <td>6.239000e+08</td>\n",
       "    </tr>\n",
       "  </tbody>\n",
       "</table>\n",
       "</div>"
      ],
      "text/plain": [
       "                        title studio  domestic_gross  foreign_gross  year  \\\n",
       "0                 Toy Story 3     BV     415000000.0    652000000.0  2010   \n",
       "1                   Inception     WB     292600000.0    535700000.0  2010   \n",
       "2         Shrek Forever After   P/DW     238700000.0    513900000.0  2010   \n",
       "3  The Twilight Saga: Eclipse   Sum.     300500000.0    398000000.0  2010   \n",
       "4                  Iron Man 2   Par.     312400000.0    311500000.0  2010   \n",
       "\n",
       "   runtime_minutes                          genres  averagerating   numvotes  \\\n",
       "0            103.0  [Adventure, Animation, Comedy]            8.3   682218.0   \n",
       "1            148.0     [Action, Adventure, Sci-Fi]            8.8  1841066.0   \n",
       "2             93.0  [Adventure, Animation, Comedy]            6.3   167532.0   \n",
       "3            124.0     [Adventure, Drama, Fantasy]            5.0   211733.0   \n",
       "4            124.0     [Action, Adventure, Sci-Fi]            7.0   657690.0   \n",
       "\n",
       "               original_title release_year   total_gross  \n",
       "0                 Toy Story 3         2010  1.067000e+09  \n",
       "1                   Inception         2010  8.283000e+08  \n",
       "2         Shrek Forever After         2010  7.526000e+08  \n",
       "3  The Twilight Saga: Eclipse         2010  6.985000e+08  \n",
       "4                  Iron Man 2         2010  6.239000e+08  "
      ]
     },
     "execution_count": 1200,
     "metadata": {},
     "output_type": "execute_result"
    }
   ],
   "source": [
    "#The movie genres need to be split and exploded to allow for genre-specific analyses\n",
    "combined_data.genres = combined_data.genres.str.split(',')\n",
    "combined_data.head(5)"
   ]
  },
  {
   "cell_type": "code",
   "execution_count": 1201,
   "metadata": {},
   "outputs": [],
   "source": [
    "#Exploding the genres\n",
    "combined_data = combined_data.explode('genres')"
   ]
  },
  {
   "cell_type": "code",
   "execution_count": 1202,
   "metadata": {},
   "outputs": [
    {
     "data": {
      "text/html": [
       "<div>\n",
       "<style scoped>\n",
       "    .dataframe tbody tr th:only-of-type {\n",
       "        vertical-align: middle;\n",
       "    }\n",
       "\n",
       "    .dataframe tbody tr th {\n",
       "        vertical-align: top;\n",
       "    }\n",
       "\n",
       "    .dataframe thead th {\n",
       "        text-align: right;\n",
       "    }\n",
       "</style>\n",
       "<table border=\"1\" class=\"dataframe\">\n",
       "  <thead>\n",
       "    <tr style=\"text-align: right;\">\n",
       "      <th></th>\n",
       "      <th>title</th>\n",
       "      <th>studio</th>\n",
       "      <th>domestic_gross</th>\n",
       "      <th>foreign_gross</th>\n",
       "      <th>year</th>\n",
       "      <th>runtime_minutes</th>\n",
       "      <th>genres</th>\n",
       "      <th>averagerating</th>\n",
       "      <th>numvotes</th>\n",
       "      <th>original_title</th>\n",
       "      <th>release_year</th>\n",
       "      <th>total_gross</th>\n",
       "    </tr>\n",
       "  </thead>\n",
       "  <tbody>\n",
       "    <tr>\n",
       "      <th>0</th>\n",
       "      <td>Toy Story 3</td>\n",
       "      <td>BV</td>\n",
       "      <td>415000000.0</td>\n",
       "      <td>652000000.0</td>\n",
       "      <td>2010</td>\n",
       "      <td>103.0</td>\n",
       "      <td>Adventure</td>\n",
       "      <td>8.3</td>\n",
       "      <td>682218.0</td>\n",
       "      <td>Toy Story 3</td>\n",
       "      <td>2010</td>\n",
       "      <td>1.067000e+09</td>\n",
       "    </tr>\n",
       "    <tr>\n",
       "      <th>0</th>\n",
       "      <td>Toy Story 3</td>\n",
       "      <td>BV</td>\n",
       "      <td>415000000.0</td>\n",
       "      <td>652000000.0</td>\n",
       "      <td>2010</td>\n",
       "      <td>103.0</td>\n",
       "      <td>Animation</td>\n",
       "      <td>8.3</td>\n",
       "      <td>682218.0</td>\n",
       "      <td>Toy Story 3</td>\n",
       "      <td>2010</td>\n",
       "      <td>1.067000e+09</td>\n",
       "    </tr>\n",
       "    <tr>\n",
       "      <th>0</th>\n",
       "      <td>Toy Story 3</td>\n",
       "      <td>BV</td>\n",
       "      <td>415000000.0</td>\n",
       "      <td>652000000.0</td>\n",
       "      <td>2010</td>\n",
       "      <td>103.0</td>\n",
       "      <td>Comedy</td>\n",
       "      <td>8.3</td>\n",
       "      <td>682218.0</td>\n",
       "      <td>Toy Story 3</td>\n",
       "      <td>2010</td>\n",
       "      <td>1.067000e+09</td>\n",
       "    </tr>\n",
       "    <tr>\n",
       "      <th>1</th>\n",
       "      <td>Inception</td>\n",
       "      <td>WB</td>\n",
       "      <td>292600000.0</td>\n",
       "      <td>535700000.0</td>\n",
       "      <td>2010</td>\n",
       "      <td>148.0</td>\n",
       "      <td>Action</td>\n",
       "      <td>8.8</td>\n",
       "      <td>1841066.0</td>\n",
       "      <td>Inception</td>\n",
       "      <td>2010</td>\n",
       "      <td>8.283000e+08</td>\n",
       "    </tr>\n",
       "    <tr>\n",
       "      <th>1</th>\n",
       "      <td>Inception</td>\n",
       "      <td>WB</td>\n",
       "      <td>292600000.0</td>\n",
       "      <td>535700000.0</td>\n",
       "      <td>2010</td>\n",
       "      <td>148.0</td>\n",
       "      <td>Adventure</td>\n",
       "      <td>8.8</td>\n",
       "      <td>1841066.0</td>\n",
       "      <td>Inception</td>\n",
       "      <td>2010</td>\n",
       "      <td>8.283000e+08</td>\n",
       "    </tr>\n",
       "  </tbody>\n",
       "</table>\n",
       "</div>"
      ],
      "text/plain": [
       "         title studio  domestic_gross  foreign_gross  year  runtime_minutes  \\\n",
       "0  Toy Story 3     BV     415000000.0    652000000.0  2010            103.0   \n",
       "0  Toy Story 3     BV     415000000.0    652000000.0  2010            103.0   \n",
       "0  Toy Story 3     BV     415000000.0    652000000.0  2010            103.0   \n",
       "1    Inception     WB     292600000.0    535700000.0  2010            148.0   \n",
       "1    Inception     WB     292600000.0    535700000.0  2010            148.0   \n",
       "\n",
       "      genres  averagerating   numvotes original_title release_year  \\\n",
       "0  Adventure            8.3   682218.0    Toy Story 3         2010   \n",
       "0  Animation            8.3   682218.0    Toy Story 3         2010   \n",
       "0     Comedy            8.3   682218.0    Toy Story 3         2010   \n",
       "1     Action            8.8  1841066.0      Inception         2010   \n",
       "1  Adventure            8.8  1841066.0      Inception         2010   \n",
       "\n",
       "    total_gross  \n",
       "0  1.067000e+09  \n",
       "0  1.067000e+09  \n",
       "0  1.067000e+09  \n",
       "1  8.283000e+08  \n",
       "1  8.283000e+08  "
      ]
     },
     "execution_count": 1202,
     "metadata": {},
     "output_type": "execute_result"
    }
   ],
   "source": [
    "combined_data.head(5)"
   ]
  },
  {
   "cell_type": "markdown",
   "metadata": {},
   "source": [
    "## Exploratory Data Analysis(EDA)"
   ]
  },
  {
   "cell_type": "markdown",
   "metadata": {},
   "source": [
    "### Visualizations for key insights"
   ]
  },
  {
   "cell_type": "code",
   "execution_count": 1203,
   "metadata": {},
   "outputs": [
    {
     "data": {
      "image/png": "[encoded data removed]",
      "text/plain": [
       "<Figure size 864x432 with 1 Axes>"
      ]
     },
     "metadata": {
      "needs_background": "light"
     },
     "output_type": "display_data"
    }
   ],
   "source": [
    "# visualizing the best performing genres at the box office by grouping our df by 'genres'\n",
    "grouped_data = combined_data.groupby('genres')['total_gross'].sum()\n",
    "\n",
    "# Sort the results in descending order (highest total gross first)\n",
    "sorted_data = grouped_data.sort_values(ascending=False)\n",
    "\n",
    "# Create a figure and set the figure size\n",
    "plt.figure(figsize=(12, 6))\n",
    "\n",
    "# Function to format y-axis ticks (convert values to millions or billions)\n",
    "def format_ticks(value, pos):\n",
    "    if value >= 1e9:\n",
    "        return f'{value / 1e9:.1f}B'\n",
    "    elif value >= 1e6:\n",
    "        return f'{value / 1e6:.1f}M'\n",
    "    else:\n",
    "        return f'{value:.0f}'\n",
    "from matplotlib.ticker import FuncFormatter  # Import FuncFormatter\n",
    "# Create a bar plot\n",
    "# Apply the formatting to the y-axis ticks\n",
    "y_formatter = FuncFormatter(format_ticks)\n",
    "colors = sns.color_palette(\"Set1\", n_colors=len(sorted_data))\n",
    "ax = sorted_data.plot(kind='bar', color=colors)\n",
    "ax.yaxis.set_major_formatter(y_formatter)\n",
    "\n",
    "# Set plot title, labels, and x-axis rotation\n",
    "plt.title('Total Gross Revenue by Genre')\n",
    "plt.xlabel('Genre')\n",
    "plt.ylabel('Total Gross Revenue ($billions)');\n",
    "\n"
   ]
  },
  {
   "cell_type": "markdown",
   "metadata": {},
   "source": [
    "Observations:\n",
    "\n",
    "Our analysis yields compelling observations regarding the performance of different genres at the Box Office. Notably, `Adventure, Action, Drama, Comedy,` and `Animation` genres emerge as the top-performing categories, consistently demonstrating strong historical performance. These genres have consistently commanded a substantial share of the total gross revenue, reflecting their enduring popularity among audiences.\n",
    "\n",
    "Conversely, genres such as  `Music, Musical, Western, War, and News` exhibit a contrasting trend, historically underperforming in terms of total gross revenue. These genres have struggled to secure a significant share of the Box Office revenue, potentially indicating a narrower audience base or challenges in resonating with the broader movie-going population.\n",
    "\n"
   ]
  },
  {
   "cell_type": "code",
   "execution_count": 1204,
   "metadata": {},
   "outputs": [
    {
     "data": {
      "image/png": "[encoded data removed]",
      "text/plain": [
       "<Figure size 720x432 with 1 Axes>"
      ]
     },
     "metadata": {
      "needs_background": "light"
     },
     "output_type": "display_data"
    }
   ],
   "source": [
    "# Creating a scatterplot to analyze the relationship between runtime and box office gross\n",
    "plt.figure(figsize=(10, 6))\n",
    "plt.scatter(combined_data.runtime_minutes, combined_data.total_gross, alpha=0.5)\n",
    "plt.title(\"Relationship between Runtime and Box Office Gross\")\n",
    "plt.xlabel(\"Runtime (Minutes)\")\n",
    "plt.ylabel(\"Box Office Gross ($billions)\")\n",
    "plt.show()"
   ]
  },
  {
   "cell_type": "code",
   "execution_count": 1205,
   "metadata": {},
   "outputs": [
    {
     "data": {
      "image/png": "[encoded data removed]",
      "text/plain": [
       "<Figure size 720x576 with 2 Axes>"
      ]
     },
     "metadata": {
      "needs_background": "light"
     },
     "output_type": "display_data"
    }
   ],
   "source": [
    "# Creating a heatmap to visualize the correlation matrix\n",
    "plt.figure(figsize=(10, 8))\n",
    "correlation_matrix = combined_data.corr()\n",
    "plt.imshow(correlation_matrix, cmap='coolwarm', interpolation='nearest')\n",
    "plt.colorbar()\n",
    "plt.xticks(range(len(correlation_matrix)), correlation_matrix.columns, rotation=45)\n",
    "plt.yticks(range(len(correlation_matrix)), correlation_matrix.columns)\n",
    "plt.title(\"Correlation Heatmap\")\n",
    "plt.show()"
   ]
  },
  {
   "cell_type": "markdown",
   "metadata": {},
   "source": [
    "Observation:\n",
    "\n",
    "The correlation between runtime and total gross revenue at the Box Office is nearly negligible. In our analysis, we found that these two variables exhibit minimal association. This indicates that the duration of a movie has little to no impact on its commercial performance in terms of total gross revenue.\n",
    "\n",
    "Such a weak correlation suggests that the runtime of a film is not a critical factor influencing its box office success. Instead, other elements such as the movie's content, genre, marketing, and viewer appeal likely exert a more significant influence on its financial performance. "
   ]
  },
  {
   "cell_type": "code",
   "execution_count": 1206,
   "metadata": {},
   "outputs": [
    {
     "data": {
      "image/png": "[encoded data removed]",
      "text/plain": [
       "<Figure size 864x432 with 1 Axes>"
      ]
     },
     "metadata": {
      "needs_background": "light"
     },
     "output_type": "display_data"
    }
   ],
   "source": [
    "#From the heatmap, there is an explicit correlation between numvotes and total_gross\n",
    "#We will try find out which genres had the highest number of votes\n",
    "\n",
    "# Visualizing the relationship between genres and average ratings\n",
    "plt.figure(figsize=(12, 6))\n",
    "genre_avg_votes = combined_data.groupby('genres')['numvotes'].mean()\n",
    "sorted_data = genre_avg_votes.sort_values(ascending=False)\n",
    "colors = sns.color_palette(\"Set2\", n_colors=len(sorted_data))\n",
    "sorted_data.plot(kind='bar', color=colors)\n",
    "plt.title(\"Number of Votes by Genre\")\n",
    "plt.xlabel(\"vote_count\");\n"
   ]
  },
  {
   "cell_type": "markdown",
   "metadata": {},
   "source": [
    "Observation:\n",
    "\n",
    "Through a comprehensive data analysis, augmented by a heatmap visualization, a compelling correlation is observed between two pivotal metrics within the dataset—namely, the number of votes (numvotes) and the total gross revenue (total_gross) attributed to films. Moreover, upon delving into the analysis of genre popularity, it is evident that specific genres command varying degrees of audience engagement.\n",
    "\n",
    "In particular, it is discerned that genres such as `Sci-Fi, Adventure, Action, Fantasy,` and `Animation` exhibit a remarkable degree of popularity, characterized by a substantial number of votes. Conversely, genres including `Romance, Sport, War, Documentary`, and `News` are identified as comparatively less popular, with a notably lower level of audience interaction."
   ]
  },
  {
   "cell_type": "code",
   "execution_count": 1207,
   "metadata": {},
   "outputs": [
    {
     "data": {
      "image/png": "[encoded data removed]",
      "text/plain": [
       "<Figure size 864x432 with 1 Axes>"
      ]
     },
     "metadata": {
      "needs_background": "light"
     },
     "output_type": "display_data"
    }
   ],
   "source": [
    "\n",
    "# Visualizing the relationship between genre and average ratings\n",
    "plt.figure(figsize=(12, 6))\n",
    "genre_avg_ratings = combined_data.groupby('genres')['averagerating'].mean()\n",
    "sorted_data = genre_avg_ratings.sort_values(ascending=False)\n",
    "sorted_data.plot(kind='bar', color='skyblue')\n",
    "plt.title(\"Average Ratings by Genre\")\n",
    "plt.xticks(rotation=90)\n",
    "plt.xlabel(\"Genre\")\n",
    "plt.ylabel(\"Average Rating\");\n"
   ]
  },
  {
   "cell_type": "markdown",
   "metadata": {},
   "source": [
    "Observation:\n",
    "\n",
    "The presented bar graph underscores a limited dispersion in average ratings among the diverse genres under examination. Notably, the genres that achieved the highest ratings were found to be `Biography, Documentary, History`, and `War` films. Conversely, genres such as `Family, Mystery, Thriller,` and `Horror` registered as the least favorably rated categories.This could possibly infer that films based on real-life events/people or historical subjects have a tendency to be more highly rated by their audiences. However, it's essential to exercise caution when drawing broad conclusions from this data alone.\n",
    "\n",
    "Several factors could contribute to the higher ratings of such films. For example, these genres often focus on real-life stories that are inherently compelling or emotionally resonant, which can positively influence audience perception. Additionally, the quality of storytelling, acting, and production values can significantly impact ratings, regardless of the genre."
   ]
  },
  {
   "cell_type": "code",
   "execution_count": 1208,
   "metadata": {},
   "outputs": [
    {
     "data": {
      "text/plain": [
       "''"
      ]
     },
     "execution_count": 1208,
     "metadata": {},
     "output_type": "execute_result"
    },
    {
     "data": {
      "image/png": "[encoded data removed]",
      "text/plain": [
       "<Figure size 864x432 with 1 Axes>"
      ]
     },
     "metadata": {
      "needs_background": "light"
     },
     "output_type": "display_data"
    }
   ],
   "source": [
    "#Analyzing genre performance over the years\n",
    "genre_performance = combined_data.groupby(['release_year', 'genres'])['total_gross'].sum().reset_index()\n",
    "\n",
    "# Pivoting the data\n",
    "pivoted_data = genre_performance.pivot(index='release_year', columns='genres', values='total_gross')\n",
    "\n",
    "# Customizing the list of genres we want to display(top 5)\n",
    "grouped_data = combined_data.groupby('genres')['total_gross'].sum().sort_values(ascending=False)\n",
    "top_5_genres = grouped_data.index[:5]\n",
    "\n",
    "# Selecting data for the chosen genres\n",
    "selected_data = pivoted_data[top_5_genres]\n",
    "\n",
    "# Creating a stacked area chart\n",
    "sns.set_palette(\"husl\")  # Customize the color palette\n",
    "selected_data.plot(kind='area', stacked=True, alpha=0.6, figsize= (12,6))\n",
    "plt.title('Performance of Selected Genres Over the Years')\n",
    "plt.xlabel('Release Year')\n",
    "plt.ylabel('Total Gross Revenue (tens of $billions)')\n",
    "plt.grid(True)\n",
    ";"
   ]
  },
  {
   "cell_type": "markdown",
   "metadata": {},
   "source": [
    "For starters, it is essential to contextualize the distinctive shape observed in the stacked area graph, which is a reflection of our movie analysis spanning across the years 1986 to 2018. Notably, this shape encompasses specific trends within the top five highest-grossing genres at the box office, namely: `Adventure, Action, Drama, Comedy,` and `Animation.`\n",
    "\n",
    "In the year 2009, our analysis reveals a significant and simultaneous upturn in total gross revenue across all these top genres. This marked increase in total gross revenue could be attributed to various factors, including the release of highly anticipated blockbuster films within these genres, improved marketing and distribution strategies, or shifts in audience preferences.\n",
    "\n",
    "Conversely, an intriguing deviation from this upward trend was observed in 2016, where there was a modest downturn in total gross revenue for all genres. This dip persisted until 2018, which coincides with the conclusion of our analysis period. Potential factors contributing to this temporary decline may include fluctuations in the film industry, competitive releases, or economic influences."
   ]
  },
  {
   "cell_type": "markdown",
   "metadata": {},
   "source": [
    "## Recommendations & Insights"
   ]
  },
  {
   "cell_type": "markdown",
   "metadata": {},
   "source": [
    "\n",
    "`1. Content Strategy:`\n",
    "- Diversify Genre Portfolio: Our analysis revealed that Adventure, Action, Drama, Comedy, and Animation genres have historically performed well at the Box Office. To maximize success, Microsoft's new movie studio should consider producing films in these genres. However, it is crucial to maintain a diverse genre portfolio to cater to a broader audience.\n",
    "\n",
    "- Exploration of Untapped Genres: While the top-performing genres are essential for profitability, don't overlook niche genres. Genres like Music, Musical, Western, War, and News may not have performed well historically, but they might hold untapped potential. Microsoft should explore opportunities in these less competitive genres.\n",
    "\n",
    "`2. Viewer Preferences:`\n",
    "\n",
    "- Quality over Quantity: While certain genres may be highly rated by audiences, such as Biography, Documentary, History, and War, these genres often have a smaller market. It is crucial to prioritize quality over quantity in such cases, aiming for well-crafted films that resonate with their target audience.\n",
    "\n",
    "- Market Research: To tailor content to audience preferences, conduct market research to understand the evolving tastes of moviegoers. Staying attuned to viewer preferences is essential for producing successful films.\n",
    "\n",
    "`3. Runtime Considerations:`\n",
    "\n",
    "- Runtime Flexibility: Given the weak correlation between runtime and total gross revenue, Microsoft should recognize that the duration of a film may not significantly impact its Box Office success. Filmmakers have the flexibility to focus on storytelling and content rather than adhering to strict runtime constraints.\n",
    "\n",
    "- Testing Audience Tolerance: While runtime may not be a critical factor, it's still advisable to consider audience tolerance for lengthy films. Conduct test screenings and gather feedback to find the optimal balance between storytelling and audience engagement.\n",
    "\n",
    "`4. Continuous Monitoring:`\n",
    "- Stay Agile: The film industry is dynamic, and audience preferences can change rapidly. Microsoft should employ an agile approach, adapting its content strategy based on evolving trends, audience feedback, and market dynamics.\n",
    "\n",
    "- Leverage Data Analytics: Continue to use data analytics to monitor the performance of movies, genres, and other relevant factors. Regularly evaluate box office data to fine-tune strategies and make data-driven decisions."
   ]
  },
  {
   "cell_type": "markdown",
   "metadata": {},
   "source": [
    "## Conclusions\n",
    "\n",
    "In conclusion, the analysis conducted in this project provides valuable insights and recommendations for Microsoft's foray into the film industry. By examining historical box office data and viewer preferences, we've identified specific genres that have historically performed well, such as Adventure, Action, Drama, Comedy, and Animation. These genres can serve as a strong foundation for Microsoft's content strategy, offering the potential for Box Office success. However, we also recognize the importance of diversifying into less competitive genres, such as Music, Musical, Western, War, and News, where untapped opportunities may lie.\n",
    "\n",
    "Furthermore, our analysis underscores the significance of quality over quantity, emphasizing the need to prioritize well-crafted films in genres that resonate with their respective target audiences. While viewer preferences play a vital role in a film's success, it's also important to note that the correlation between runtime and total gross revenue is relatively weak. This implies that filmmakers have flexibility in storytelling and can focus on content without rigidly adhering to runtime constraints.\n",
    "\n",
    "As with any analysis, there are limitations to consider. The film industry is subject to rapidly changing trends and viewer preferences, making it challenging to predict future success with certainty. Additionally, the dataset's missing values and historical context may not fully capture the nuances of the modern film landscape. To address these limitations and continue improving this project, future steps may include conducting more extensive market research, leveraging real-time data sources, and remaining agile in adapting to evolving industry trends.\n",
    "\n",
    "In summary, this project equips Microsoft's new movie studio with valuable insights for a successful entry into the competitive world of film production. By following our recommendations, staying attuned to audience preferences, and remaining adaptable in a dynamic industry, Microsoft can strategically position itself for a prosperous future in filmmaking.\n",
    "***"
   ]
  },
  {
   "cell_type": "markdown",
   "metadata": {},
   "source": []
  }
 ],
 "metadata": {
  "kernelspec": {
   "display_name": "Python 3",
   "language": "python",
   "name": "python3"
  },
  "language_info": {
   "codemirror_mode": {
    "name": "ipython",
    "version": 3
   },
   "file_extension": ".py",
   "mimetype": "text/x-python",
   "name": "python",
   "nbconvert_exporter": "python",
   "pygments_lexer": "ipython3",
   "version": "3.8.5"
  }
 },
 "nbformat": 4,
 "nbformat_minor": 4
}
